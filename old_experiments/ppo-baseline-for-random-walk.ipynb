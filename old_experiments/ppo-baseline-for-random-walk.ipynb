{
 "cells": [
  {
   "cell_type": "code",
   "execution_count": 15,
   "id": "initial_id",
   "metadata": {
    "ExecuteTime": {
     "end_time": "2024-05-02T11:48:13.174385Z",
     "start_time": "2024-05-02T11:48:11.014534Z"
    }
   },
   "source": [
    "%load_ext autoreload\n",
    "%autoreload 2\n",
    "\n",
    "import numpy as np\n",
    "import matplotlib.pyplot as plt\n",
    "import sys\n",
    "\n",
    "sys.path.append('..')\n",
    "\n",
    "from envs.random_walk import RandomWalkEnv\n",
    "from stable_baselines3 import PPO\n",
    "from stable_baselines3.common.callbacks import BaseCallback\n",
    "from stable_baselines3.common.evaluation import evaluate_policy\n",
    "\n",
    "from collections import deque\n",
    "\n",
    "from tqdm.notebook import tqdm\n",
    "\n",
    "from utils.logging import EvalLogCallback"
   ],
   "outputs": []
  },
  {
   "cell_type": "code",
   "execution_count": 16,
   "id": "64327c496e17b2fe",
   "metadata": {
    "ExecuteTime": {
     "end_time": "2024-05-02T11:50:25.106604Z",
     "start_time": "2024-05-02T11:48:51.405300Z"
    }
   },
   "source": [
    "env = RandomWalkEnv()\n",
    "\n",
    "agent = PPO('MlpPolicy', env)\n",
    "callback = EvalLogCallback(eval_every=1, smooth_window=2, model=agent, eval_env=env)\n",
    "agent.learn(total_timesteps=20000, progress_bar=True, callback=callback)\n",
    "callback.plot_rewards()\n",
    "\n",
    "# why is the number of rollouts much smaller than the number of iterations?\n",
    "# it's annoying but it doesn't really matter as we will be mainly developing our own algorithms"
   ],
   "outputs": []
  },
  {
   "cell_type": "code",
   "execution_count": 13,
   "id": "ac8bbc24fba9d362",
   "metadata": {
    "ExecuteTime": {
     "end_time": "2024-05-02T11:52:01.374127Z",
     "start_time": "2024-05-02T11:52:01.347716Z"
    }
   },
   "source": [
    "mean_reward, std_reward = evaluate_policy(\n",
    "    agent, env, render=False, n_eval_episodes=1, deterministic=True, warn=False\n",
    ")\n",
    "\n",
    "mean_reward, std_reward"
   ],
   "outputs": []
  },
  {
   "cell_type": "code",
   "execution_count": 14,
   "id": "704ea46064984cc2",
   "metadata": {},
   "source": [
    "obs, _ = env.reset()\n",
    "\n",
    "for i in range(1000):\n",
    "    action, _states = agent.predict(obs)\n",
    "    obs, rewards, terminated, truncated, info = env.step(action.item())\n",
    "    print(rewards)\n",
    "    if terminated or truncated:\n",
    "        break\n",
    "env.render()"
   ],
   "outputs": []
  }
 ],
 "metadata": {
  "kernelspec": {
   "display_name": "Python 3 (ipykernel)",
   "language": "python",
   "name": "python3"
  },
  "language_info": {
   "codemirror_mode": {
    "name": "ipython",
    "version": 3
   },
   "file_extension": ".py",
   "mimetype": "text/x-python",
   "name": "python",
   "nbconvert_exporter": "python",
   "pygments_lexer": "ipython3",
   "version": "3.10.14"
  }
 },
 "nbformat": 4,
 "nbformat_minor": 5
}
