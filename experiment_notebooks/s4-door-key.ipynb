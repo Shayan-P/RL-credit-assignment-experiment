{
 "cells": [
  {
   "cell_type": "code",
   "execution_count": 3,
   "metadata": {},
   "outputs": [],
   "source": [
    "import sys\n",
    "import os\n",
    "\n",
    "sys.path.append(\"..\")\n",
    "\n",
    "from s4.dts4 import DecisionS4\n",
    "import torch\n",
    "import torch.nn as nn\n",
    "import numpy as np\n",
    "import matplotlib.pyplot as plt"
   ]
  },
  {
   "cell_type": "code",
   "execution_count": 6,
   "metadata": {},
   "outputs": [
    {
     "name": "stdout",
     "output_type": "stream",
     "text": [
      "device: mps\n"
     ]
    }
   ],
   "source": [
    "from envs.door_key import DoorKeyEnv, DoorKeyEnvSmall\n",
    "from data.door_key_dataset import DoorKeyDataset\n",
    "from data.trajectory import LimitedContextWrapper\n",
    "from algorithms.sequence_models.config import TrainConfig\n",
    "\n",
    "# make device mps or cuda or cpu\n",
    "\n",
    "device = torch.device(\"cuda\" if torch.cuda.is_available() else \"mps\" if torch.backends.mps.is_available() else \"cpu\")\n",
    "print(\"device:\", device)"
   ]
  },
  {
   "cell_type": "code",
   "execution_count": 8,
   "metadata": {},
   "outputs": [
    {
     "data": {
      "application/vnd.jupyter.widget-view+json": {
       "model_id": "a3fedf4e33f842368d418c3c3dfc1c79",
       "version_major": 2,
       "version_minor": 0
      },
      "text/plain": [
       "collecting trajectories:   0%|          | 0/10000 [00:00<?, ?it/s]"
      ]
     },
     "metadata": {},
     "output_type": "display_data"
    },
    {
     "ename": "RuntimeError",
     "evalue": "a Tensor with 7 elements cannot be converted to Scalar",
     "output_type": "error",
     "traceback": [
      "\u001b[0;31m---------------------------------------------------------------------------\u001b[0m",
      "\u001b[0;31mRuntimeError\u001b[0m                              Traceback (most recent call last)",
      "Cell \u001b[0;32mIn[8], line 8\u001b[0m\n\u001b[1;32m      3\u001b[0m env \u001b[38;5;241m=\u001b[39m ImgObsWrapper(DoorKeyEnvSmall()) \u001b[38;5;66;03m# wrap the environment to only give the vision data\u001b[39;00m\n\u001b[1;32m      5\u001b[0m \u001b[38;5;66;03m# todo is this number of trajectories enough?\u001b[39;00m\n\u001b[1;32m      6\u001b[0m \u001b[38;5;66;03m# todo should the reward scale be 1?\u001b[39;00m\n\u001b[1;32m      7\u001b[0m \u001b[38;5;66;03m# todo make sure max_steps is not too much. we don't want the context length to be too big\u001b[39;00m\n\u001b[0;32m----> 8\u001b[0m traj_dataset \u001b[38;5;241m=\u001b[39m \u001b[43mDoorKeyDataset\u001b[49m\u001b[43m(\u001b[49m\u001b[43menv\u001b[49m\u001b[43m)\u001b[49m\n",
      "File \u001b[0;32m~/Documents/MIT/6.8200/project/experiment_notebooks/../data/door_key_dataset.py:23\u001b[0m, in \u001b[0;36mDoorKeyDataset.__init__\u001b[0;34m(self, env, n_trajectories, reward_scale)\u001b[0m\n\u001b[1;32m     21\u001b[0m policy \u001b[38;5;241m=\u001b[39m RandomPolicy(\u001b[38;5;28mself\u001b[39m\u001b[38;5;241m.\u001b[39menv)\n\u001b[1;32m     22\u001b[0m \u001b[38;5;28mself\u001b[39m\u001b[38;5;241m.\u001b[39mtrajectories \u001b[38;5;241m=\u001b[39m []\n\u001b[0;32m---> 23\u001b[0m \u001b[38;5;28mself\u001b[39m\u001b[38;5;241m.\u001b[39mtrajectories \u001b[38;5;241m+\u001b[39m\u001b[38;5;241m=\u001b[39m \u001b[38;5;28;43mself\u001b[39;49m\u001b[38;5;241;43m.\u001b[39;49m\u001b[43mcollect_trajectories\u001b[49m\u001b[43m(\u001b[49m\u001b[38;5;28;43mself\u001b[39;49m\u001b[38;5;241;43m.\u001b[39;49m\u001b[43menv\u001b[49m\u001b[43m,\u001b[49m\u001b[43m \u001b[49m\u001b[43mpolicy\u001b[49m\u001b[43m,\u001b[49m\u001b[43m \u001b[49m\u001b[43mn_trajectories\u001b[49m\u001b[38;5;241;43m=\u001b[39;49m\u001b[43mn_trajectories\u001b[49m\u001b[43m)\u001b[49m\n\u001b[1;32m     24\u001b[0m \u001b[38;5;66;03m# todo other policies maybe?\u001b[39;00m\n\u001b[1;32m     26\u001b[0m \u001b[38;5;28mself\u001b[39m\u001b[38;5;241m.\u001b[39moriginal_obs_shape \u001b[38;5;241m=\u001b[39m env\u001b[38;5;241m.\u001b[39mobservation_space\u001b[38;5;241m.\u001b[39mshape\n",
      "File \u001b[0;32m~/Documents/MIT/6.8200/project/experiment_notebooks/../data/trajectory.py:136\u001b[0m, in \u001b[0;36mTrajectoryDataset.collect_trajectories\u001b[0;34m(self, env, policy, n_trajectories, step_limit)\u001b[0m\n\u001b[1;32m    134\u001b[0m res \u001b[38;5;241m=\u001b[39m []\n\u001b[1;32m    135\u001b[0m \u001b[38;5;28;01mfor\u001b[39;00m i \u001b[38;5;129;01min\u001b[39;00m tqdm(\u001b[38;5;28mrange\u001b[39m(n_trajectories), \u001b[38;5;124m\"\u001b[39m\u001b[38;5;124mcollecting trajectories\u001b[39m\u001b[38;5;124m\"\u001b[39m):\n\u001b[0;32m--> 136\u001b[0m     traj \u001b[38;5;241m=\u001b[39m \u001b[38;5;28;43mself\u001b[39;49m\u001b[38;5;241;43m.\u001b[39;49m\u001b[43mcollect_trajectory\u001b[49m\u001b[43m(\u001b[49m\u001b[43menv\u001b[49m\u001b[38;5;241;43m=\u001b[39;49m\u001b[43menv\u001b[49m\u001b[43m,\u001b[49m\u001b[43m \u001b[49m\u001b[43mpolicy\u001b[49m\u001b[38;5;241;43m=\u001b[39;49m\u001b[43mpolicy\u001b[49m\u001b[43m,\u001b[49m\u001b[43m \u001b[49m\u001b[43mstep_limit\u001b[49m\u001b[38;5;241;43m=\u001b[39;49m\u001b[43mstep_limit\u001b[49m\u001b[43m)\u001b[49m\n\u001b[1;32m    137\u001b[0m     res\u001b[38;5;241m.\u001b[39mappend(traj)\n\u001b[1;32m    138\u001b[0m \u001b[38;5;28;01mreturn\u001b[39;00m res\n",
      "File \u001b[0;32m~/Documents/MIT/6.8200/project/experiment_notebooks/../data/trajectory.py:120\u001b[0m, in \u001b[0;36mTrajectoryDataset.collect_trajectory\u001b[0;34m(self, env, policy, step_limit)\u001b[0m\n\u001b[1;32m    118\u001b[0m \u001b[38;5;28;01mfor\u001b[39;00m _ \u001b[38;5;129;01min\u001b[39;00m \u001b[38;5;28mrange\u001b[39m(step_limit):\n\u001b[1;32m    119\u001b[0m     action, info \u001b[38;5;241m=\u001b[39m policy\u001b[38;5;241m.\u001b[39mpredict(observation)\n\u001b[0;32m--> 120\u001b[0m     action \u001b[38;5;241m=\u001b[39m \u001b[43maction\u001b[49m\u001b[38;5;241;43m.\u001b[39;49m\u001b[43mitem\u001b[49m\u001b[43m(\u001b[49m\u001b[43m)\u001b[49m\n\u001b[1;32m    121\u001b[0m     observations\u001b[38;5;241m.\u001b[39mappend(observation)\n\u001b[1;32m    122\u001b[0m     actions\u001b[38;5;241m.\u001b[39mappend(action)\n",
      "\u001b[0;31mRuntimeError\u001b[0m: a Tensor with 7 elements cannot be converted to Scalar"
     ]
    }
   ],
   "source": [
    "from minigrid.wrappers import FlatObsWrapper, ImgObsWrapper\n",
    "\n",
    "env = ImgObsWrapper(DoorKeyEnvSmall()) # wrap the environment to only give the vision data\n",
    "\n",
    "# todo is this number of trajectories enough?\n",
    "# todo should the reward scale be 1?\n",
    "# todo make sure max_steps is not too much. we don't want the context length to be too big\n",
    "traj_dataset = DoorKeyDataset(env)"
   ]
  },
  {
   "cell_type": "code",
   "execution_count": null,
   "metadata": {},
   "outputs": [],
   "source": []
  }
 ],
 "metadata": {
  "kernelspec": {
   "display_name": "Python 3",
   "language": "python",
   "name": "python3"
  },
  "language_info": {
   "codemirror_mode": {
    "name": "ipython",
    "version": 3
   },
   "file_extension": ".py",
   "mimetype": "text/x-python",
   "name": "python",
   "nbconvert_exporter": "python",
   "pygments_lexer": "ipython3",
   "version": "3.12.0"
  }
 },
 "nbformat": 4,
 "nbformat_minor": 2
}
