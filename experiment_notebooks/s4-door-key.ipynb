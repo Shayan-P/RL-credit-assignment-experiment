{
 "cells": [
  {
   "cell_type": "code",
   "execution_count": 6,
   "id": "initial_id",
   "metadata": {
    "ExecuteTime": {
     "end_time": "2024-05-09T21:03:45.244899Z",
     "start_time": "2024-05-09T21:03:41.284022Z"
    },
    "collapsed": true
   },
   "outputs": [
    {
     "name": "stdout",
     "output_type": "stream",
     "text": [
      "The autoreload extension is already loaded. To reload it, use:\n",
      "  %reload_ext autoreload\n"
     ]
    },
    {
     "data": {
      "text/plain": [
       "device(type='cpu')"
      ]
     },
     "execution_count": 6,
     "metadata": {},
     "output_type": "execute_result"
    }
   ],
   "source": [
    "\n",
    "%load_ext autoreload\n",
    "%autoreload 2\n",
    "\n",
    "import matplotlib.pyplot as plt\n",
    "import numpy as np\n",
    "import torch\n",
    "import torch.nn as nn\n",
    "\n",
    "import sys\n",
    "\n",
    "sys.path.append('../')\n",
    "\n",
    "# from algorithms.sequence_models.old_decision_transformer.decision_transformer.decision_transformer import DecisionTransformer\n",
    "from algorithms.sequence_models.decision_transformer.decision_transformer import DecisionTransformer\n",
    "from algorithms.sequence_models.evaluate import evaluate_on_env\n",
    "from data.door_key_dataset import DoorKeyDataset\n",
    "from envs.door_key import DoorKeyEnv, DoorKeyEnvSmall\n",
    "from data.trajectory import LimitedContextWrapper\n",
    "from algorithms.sequence_models.config import TrainConfig\n",
    "from algorithms.sequence_models.decision_transformer.trainer import TrainerDT\n",
    "from s4.dts4 import DecisionS4\n",
    "\n",
    "device = torch.device('cuda' if torch.cuda.is_available() else 'cpu')\n",
    "device = torch.device('cpu')\n",
    "device"
   ]
  },
  {
   "cell_type": "code",
   "execution_count": 7,
   "id": "90a40fb19c212c61",
   "metadata": {
    "ExecuteTime": {
     "end_time": "2024-05-09T21:03:45.279651Z",
     "start_time": "2024-05-09T21:03:45.245977Z"
    }
   },
   "outputs": [],
   "source": [
    "class CustomCallback:\n",
    "\tdef __init__(self, env, model, optimizer, logger, device, traj_dataset, config, rtgs=[]):\n",
    "\t\tself.env = env\n",
    "\t\tself.model = model\n",
    "\t\tself.optimizer = optimizer\n",
    "\t\tself.logger = logger\n",
    "\t\tself.device = device\n",
    "\t\tself.traj_dataset = traj_dataset\n",
    "\t\tself.config = config\n",
    "\t\tself.rtgs = rtgs\n",
    "\t\tself.eval_results = []\n",
    "\t\t\n",
    "\tdef callback(self, df, **kwargs):\n",
    "\t\tresults = evaluate_on_env(\n",
    "\t\t\tmodel=self.model, traj_dataset=self.traj_dataset,\n",
    "\t\t\tdevice=self.device, context_len=self.config.context_len,\n",
    "\t\t\tenv=self.env, rtg_target=self.config.rtg_main,\n",
    "\t\t\tnum_eval_ep=self.config.num_eval_ep,\n",
    "\t\t\tmax_test_ep_len=self.config.max_eval_ep_len)\n",
    "\t\tself.logger.log(\n",
    "\t\t\t\t   model=self.model,\n",
    "\t\t\t\t   loss=df['train/loss'].sum(),\n",
    "\t\t\t\t   eval_avg_reward=results['eval/avg_reward'],\n",
    "\t\t\t\t   eval_avg_ep_len=results['eval/avg_ep_len'],\n",
    "\t\t\t\t   grad_norm=max(torch.norm(param.grad) for param in self.model.parameters() if param.grad is not None),\n",
    "\t\t\t\t   lr=self.optimizer.param_groups[0]['lr'],\n",
    "\t\t\t\t   important={\"grad_norm\", \"lr\"})\n",
    "\t\tres = {}\n",
    "\t\tfor rtg in self.rtgs:\n",
    "\t\t\tres[rtg] = evaluate_on_env(\n",
    "\t\t\t\tmodel=self.model,\n",
    "\t\t\t\ttraj_dataset=self.traj_dataset,\n",
    "\t\t\t\tdevice=self.device,\n",
    "\t\t\t\tcontext_len=self.config.context_len,\n",
    "\t\t\t\tenv=self.env,\n",
    "\t\t\t\trtg_target=rtg,\n",
    "\t\t\t\tnum_eval_ep=self.config.num_eval_ep\n",
    "\t\t\t)\n",
    "\t\tself.eval_results.append(res)\n",
    "\t\n",
    "\tdef plot_eval_results(self):\n",
    "\t\tplt.figure()\n",
    "\t\tfor rtg in self.rtgs:\n",
    "\t\t\tplt.plot([res[rtg]['eval/avg_reward'] for res in self.eval_results])\n",
    "\t\tplt.xlabel('iteration')\n",
    "\t\tplt.ylabel('avg_reward')\n",
    "\t\tplt.legend([f'r={rtg:.2f}' for rtg in self.rtgs])\n",
    "\n",
    "\t\tplt.figure()\n",
    "\t\t\n",
    "\t\tfor rtg in self.rtgs:\n",
    "\t\t\tn = len(self.eval_results)\n",
    "\t\t\tplt.plot(range(n//2, n), [res[rtg]['eval/avg_reward'] for res in self.eval_results[n//2:]])\n",
    "\t\t\t\n",
    "\t\tplt.xlabel('iteration')\n",
    "\t\tplt.ylabel('avg_reward')\n",
    "\t\tplt.legend([f'r={rtg:.2f}' for rtg in self.rtgs])"
   ]
  },
  {
   "cell_type": "code",
   "execution_count": 8,
   "id": "df18704f6398c1c8",
   "metadata": {
    "ExecuteTime": {
     "end_time": "2024-05-09T21:26:28.301135Z",
     "start_time": "2024-05-09T21:26:13.358646Z"
    }
   },
   "outputs": [
    {
     "data": {
      "application/vnd.jupyter.widget-view+json": {
       "model_id": "d4918b0230d34c8998da70001c7a3e7e",
       "version_major": 2,
       "version_minor": 0
      },
      "text/plain": [
       "collecting trajectories:   0%|          | 0/2000 [00:00<?, ?it/s]"
      ]
     },
     "metadata": {},
     "output_type": "display_data"
    },
    {
     "name": "stdout",
     "output_type": "stream",
     "text": [
      "Dataset Info:\n"
     ]
    },
    {
     "name": "stderr",
     "output_type": "stream",
     "text": [
      "/Users/kaustubhdighe/Documents/MIT/6.8200/project/experiment_notebooks/../data/convertor.py:31: RuntimeWarning: invalid value encountered in scalar divide\n",
      "  return value / self.scale\n"
     ]
    },
    {
     "name": "stdout",
     "output_type": "stream",
     "text": [
      "episode_max_length: 50\n",
      "reward_scale: 0.0\n",
      "return min=0, max=0 mean=0.0\n",
      "gamma: 1\n"
     ]
    }
   ],
   "source": [
    "from minigrid.wrappers import FlatObsWrapper, ImgObsWrapper\n",
    "\n",
    "env = ImgObsWrapper(DoorKeyEnvSmall()) # wrap the environment to only give the vision data\n",
    "\n",
    "# todo is this number of trajectories enough?\n",
    "# todo should the reward scale be 1?\n",
    "# todo make sure max_steps is not too much. we don't want the context length to be too big\n",
    "traj_dataset = DoorKeyDataset(env, n_trajectories=2000, reward_scale=None)"
   ]
  },
  {
   "cell_type": "code",
   "execution_count": 9,
   "id": "41c97f90d62f8e4f",
   "metadata": {
    "ExecuteTime": {
     "end_time": "2024-05-09T21:26:38.910054Z",
     "start_time": "2024-05-09T21:26:38.862005Z"
    }
   },
   "outputs": [
    {
     "name": "stdout",
     "output_type": "stream",
     "text": [
      "number of parameters 630811\n"
     ]
    }
   ],
   "source": [
    "# todo rtg_range_check and rtg_main are used for plotting and monitoring\n",
    "# todo is the rtg_range_check correct?\n",
    "config = TrainConfig(max_eval_ep_len=20, context_len=64, rtg_range_check=(0, 5), rtg_main=5)\n",
    "\n",
    "experiment_name = 'first-small-door-key-experiment'\n",
    "\n",
    "model = DecisionS4(\n",
    "\t\t\tstate_dim=traj_dataset.state_dim(),\n",
    "\t\t\tact_dim=traj_dataset.action_dim(),\n",
    "\t\t\th_dim=config.embed_dim,\n",
    "\t\t\tcontext_len=config.context_len,\n",
    "\t\t\tdrop_p=config.dropout_p,\n",
    ").to(device)\n",
    "\n",
    "optimizer = torch.optim.AdamW(model.parameters(), lr=config.lr, weight_decay=config.wt_decay)\n",
    "\n",
    "scheduler = torch.optim.lr_scheduler.LambdaLR(\n",
    "\toptimizer,\n",
    "\tlambda steps: min((steps+1)/config.warmup_steps, 1)\n",
    ")\n",
    "\n",
    "loss_fn = nn.MSELoss(reduction='mean')\n",
    "\n",
    "trainer = TrainerDT(name=experiment_name, model=model,\n",
    "\t\t\t\t\toptimizer=optimizer, loss_fn=loss_fn,\n",
    "\t\t\t\t\tdataset=LimitedContextWrapper(traj_dataset, context_len=config.context_len),\n",
    "\t\t\t\t\tdevice=device, config=config, scheduler=scheduler)\n",
    "\n",
    "callback = CustomCallback(env=env, model=model,\n",
    "\t\t\t\t\t\t  optimizer=optimizer, logger=trainer.logger, device=device, traj_dataset=traj_dataset, config=config,\n",
    "\t\t\t\t\t\t  rtgs=np.linspace(config.rtg_range_check[0], config.rtg_range_check[1], 5))\n",
    "\n",
    "trainer.register_callback(callback.callback)\n",
    "\n",
    "print(\"number of parameters\", sum(np.prod(param.shape) for param in model.parameters()))"
   ]
  },
  {
   "cell_type": "code",
   "execution_count": 10,
   "id": "91cb2232857df103",
   "metadata": {
    "ExecuteTime": {
     "end_time": "2024-05-09T21:26:02.617485Z",
     "start_time": "2024-05-09T21:25:52.689796Z"
    }
   },
   "outputs": [
    {
     "data": {
      "application/vnd.jupyter.widget-view+json": {
       "model_id": "b83dd5ea81cd4976a18e8b9ea59fb502",
       "version_major": 2,
       "version_minor": 0
      },
      "text/plain": [
       "  0%|          | 0/200 [00:00<?, ?it/s]"
      ]
     },
     "metadata": {},
     "output_type": "display_data"
    },
    {
     "name": "stdout",
     "output_type": "stream",
     "text": [
      "[KeOps] Generating code for Sum_Reduction reduction (with parameters 0) of formula ComplexMult(Real2Complex(1/ComplexSquareAbs(ComplexMult(b-c,b-Conj(c)))),ComplexMult(b*ComplexReal(a)-Real2Complex(a|c),Conj(ComplexMult(b-c,b-Conj(c))))) with a=Var(0,2,1), b=Var(1,2,0), c=Var(2,2,1) ... OK\n",
      "[pyKeOps] Compiling pykeops cpp ac621036f6 module ... OK\n",
      "[KeOps] Generating code for Sum_Reduction reduction (with parameters 1) of formula ComplexAdd(ComplexAdd(ComplexAdd(Zero(2),Zero(2)),ComplexAdd(Zero(2),Zero(2)))*(-1/ComplexSquareAbs(ComplexMult(b-c,b-Conj(c)))**2),ComplexAdd(Real2Complex(ComplexMult(Conj(Conj(ComplexMult(b-c,b-Conj(c)))),ComplexMult(Conj(Real2Complex(1/ComplexSquareAbs(ComplexMult(b-c,b-Conj(c))))),d))|b)-ComplexReal(ComplexMult(Conj(Conj(ComplexMult(b-c,b-Conj(c)))),ComplexMult(Conj(Real2Complex(1/ComplexSquareAbs(ComplexMult(b-c,b-Conj(c))))),d)))*c,ComplexAdd(Zero(2),Zero(2)))) with b=Var(1,2,0), c=Var(2,2,1), d=Var(3,2,0) ... OK\n",
      "[pyKeOps] Compiling pykeops cpp 102173eeba module ... OK\n",
      "[KeOps] Generating code for Sum_Reduction reduction (with parameters 1) of formula ComplexAdd(ComplexAdd(ComplexAdd(-ComplexMult(Conj(b-Conj(c)),ComplexMult(Conj(Conj(ComplexMult(b-c,b-Conj(c)))),Real2Complex(ComplexReal(ComplexMult(Conj(ComplexMult(b*ComplexReal(a)-Real2Complex(a|c),Conj(ComplexMult(b-c,b-Conj(c))))),d))))),-Conj(ComplexMult(Conj(b-c),ComplexMult(Conj(Conj(ComplexMult(b-c,b-Conj(c)))),Real2Complex(ComplexReal(ComplexMult(Conj(ComplexMult(b*ComplexReal(a)-Real2Complex(a|c),Conj(ComplexMult(b-c,b-Conj(c))))),d))))))),ComplexAdd(-ComplexMult(Conj(b-Conj(c)),Conj(ComplexMult(Conj(ComplexMult(b-c,b-Conj(c))),Real2Complex(ComplexReal(ComplexMult(Conj(ComplexMult(b*ComplexReal(a)-Real2Complex(a|c),Conj(ComplexMult(b-c,b-Conj(c))))),d)))))),-Conj(ComplexMult(Conj(b-c),Conj(ComplexMult(Conj(ComplexMult(b-c,b-Conj(c))),Real2Complex(ComplexReal(ComplexMult(Conj(ComplexMult(b*ComplexReal(a)-Real2Complex(a|c),Conj(ComplexMult(b-c,b-Conj(c))))),d)))))))))*(-1/ComplexSquareAbs(ComplexMult(b-c,b-Conj(c)))**2),ComplexAdd(-(ComplexReal(ComplexMult(Conj(Conj(ComplexMult(b-c,b-Conj(c)))),ComplexMult(Conj(Real2Complex(1/ComplexSquareAbs(ComplexMult(b-c,b-Conj(c))))),d)))*a),ComplexAdd(-ComplexMult(Conj(b-Conj(c)),Conj(ComplexMult(Conj(b*ComplexReal(a)-Real2Complex(a|c)),ComplexMult(Conj(Real2Complex(1/ComplexSquareAbs(ComplexMult(b-c,b-Conj(c))))),d)))),-Conj(ComplexMult(Conj(b-c),Conj(ComplexMult(Conj(b*ComplexReal(a)-Real2Complex(a|c)),ComplexMult(Conj(Real2Complex(1/ComplexSquareAbs(ComplexMult(b-c,b-Conj(c))))),d)))))))) with a=Var(0,2,1), b=Var(1,2,0), c=Var(2,2,1), d=Var(3,2,0) ... OK\n",
      "[pyKeOps] Compiling pykeops cpp 9e51396f83 module ... OK\n"
     ]
    },
    {
     "name": "stderr",
     "output_type": "stream",
     "text": [
      "/Users/kaustubhdighe/Documents/MIT/6.8200/project/experiment_notebooks/../data/convertor.py:31: RuntimeWarning: divide by zero encountered in scalar divide\n",
      "  return value / self.scale\n"
     ]
    },
    {
     "name": "stdout",
     "output_type": "stream",
     "text": [
      "achieved average reward:  0.0\n",
      "saving max score model at: /Users/kaustubhdighe/Documents/MIT/6.8200/project/logs/dt_runs/dt_first-small-door-key-experiment_model_24-05-10-08-25-09_best.pt\n",
      "============================================================\n",
      "time elapsed: 0:00:18\n",
      "num of updates: 100\n",
      "loss: 0.00000\n",
      "eval avg reward: 0.00000\n",
      "best score: -inf\n",
      "eval_avg_ep_len 20.00000\n",
      "grad_norm nan\n",
      "lr 0.00001\n"
     ]
    },
    {
     "name": "stderr",
     "output_type": "stream",
     "text": [
      "/Users/kaustubhdighe/Documents/MIT/6.8200/project/experiment_notebooks/../data/convertor.py:31: RuntimeWarning: divide by zero encountered in scalar divide\n",
      "  return value / self.scale\n",
      "/Users/kaustubhdighe/Documents/MIT/6.8200/project/experiment_notebooks/../data/convertor.py:31: RuntimeWarning: invalid value encountered in scalar divide\n",
      "  return value / self.scale\n"
     ]
    },
    {
     "name": "stdout",
     "output_type": "stream",
     "text": [
      "achieved average reward:  0.0\n",
      "saving max score model at: /Users/kaustubhdighe/Documents/MIT/6.8200/project/logs/dt_runs/dt_first-small-door-key-experiment_model_24-05-10-08-25-09_best.pt\n",
      "============================================================\n",
      "time elapsed: 0:00:37\n",
      "num of updates: 200\n",
      "loss: 0.00000\n",
      "eval avg reward: 0.00000\n",
      "best score: 0.00000\n",
      "eval_avg_ep_len 20.00000\n",
      "grad_norm nan\n",
      "lr 0.00002\n"
     ]
    },
    {
     "name": "stderr",
     "output_type": "stream",
     "text": [
      "/Users/kaustubhdighe/Documents/MIT/6.8200/project/experiment_notebooks/../data/convertor.py:31: RuntimeWarning: divide by zero encountered in scalar divide\n",
      "  return value / self.scale\n",
      "/Users/kaustubhdighe/Documents/MIT/6.8200/project/experiment_notebooks/../data/convertor.py:31: RuntimeWarning: invalid value encountered in scalar divide\n",
      "  return value / self.scale\n"
     ]
    },
    {
     "name": "stdout",
     "output_type": "stream",
     "text": [
      "achieved average reward:  0.0\n",
      "saving max score model at: /Users/kaustubhdighe/Documents/MIT/6.8200/project/logs/dt_runs/dt_first-small-door-key-experiment_model_24-05-10-08-25-09_best.pt\n",
      "============================================================\n",
      "time elapsed: 0:00:56\n",
      "num of updates: 300\n",
      "loss: 0.00000\n",
      "eval avg reward: 0.00000\n",
      "best score: 0.00000\n",
      "eval_avg_ep_len 20.00000\n",
      "grad_norm nan\n",
      "lr 0.00003\n"
     ]
    },
    {
     "name": "stderr",
     "output_type": "stream",
     "text": [
      "/Users/kaustubhdighe/Documents/MIT/6.8200/project/experiment_notebooks/../data/convertor.py:31: RuntimeWarning: divide by zero encountered in scalar divide\n",
      "  return value / self.scale\n",
      "/Users/kaustubhdighe/Documents/MIT/6.8200/project/experiment_notebooks/../data/convertor.py:31: RuntimeWarning: invalid value encountered in scalar divide\n",
      "  return value / self.scale\n"
     ]
    },
    {
     "name": "stdout",
     "output_type": "stream",
     "text": [
      "achieved average reward:  0.0\n",
      "saving max score model at: /Users/kaustubhdighe/Documents/MIT/6.8200/project/logs/dt_runs/dt_first-small-door-key-experiment_model_24-05-10-08-25-09_best.pt\n",
      "============================================================\n",
      "time elapsed: 0:01:16\n",
      "num of updates: 400\n",
      "loss: 0.00000\n",
      "eval avg reward: 0.00000\n",
      "best score: 0.00000\n",
      "eval_avg_ep_len 20.00000\n",
      "grad_norm nan\n",
      "lr 0.00004\n"
     ]
    },
    {
     "name": "stderr",
     "output_type": "stream",
     "text": [
      "/Users/kaustubhdighe/Documents/MIT/6.8200/project/experiment_notebooks/../data/convertor.py:31: RuntimeWarning: divide by zero encountered in scalar divide\n",
      "  return value / self.scale\n",
      "/Users/kaustubhdighe/Documents/MIT/6.8200/project/experiment_notebooks/../data/convertor.py:31: RuntimeWarning: invalid value encountered in scalar divide\n",
      "  return value / self.scale\n"
     ]
    },
    {
     "name": "stdout",
     "output_type": "stream",
     "text": [
      "achieved average reward:  0.0\n",
      "saving max score model at: /Users/kaustubhdighe/Documents/MIT/6.8200/project/logs/dt_runs/dt_first-small-door-key-experiment_model_24-05-10-08-25-09_best.pt\n",
      "============================================================\n",
      "time elapsed: 0:01:36\n",
      "num of updates: 500\n",
      "loss: 0.00000\n",
      "eval avg reward: 0.00000\n",
      "best score: 0.00000\n",
      "eval_avg_ep_len 20.00000\n",
      "grad_norm nan\n",
      "lr 0.00005\n"
     ]
    },
    {
     "name": "stderr",
     "output_type": "stream",
     "text": [
      "/Users/kaustubhdighe/Documents/MIT/6.8200/project/experiment_notebooks/../data/convertor.py:31: RuntimeWarning: divide by zero encountered in scalar divide\n",
      "  return value / self.scale\n",
      "/Users/kaustubhdighe/Documents/MIT/6.8200/project/experiment_notebooks/../data/convertor.py:31: RuntimeWarning: invalid value encountered in scalar divide\n",
      "  return value / self.scale\n"
     ]
    },
    {
     "name": "stdout",
     "output_type": "stream",
     "text": [
      "achieved average reward:  0.0\n",
      "saving max score model at: /Users/kaustubhdighe/Documents/MIT/6.8200/project/logs/dt_runs/dt_first-small-door-key-experiment_model_24-05-10-08-25-09_best.pt\n",
      "============================================================\n",
      "time elapsed: 0:01:56\n",
      "num of updates: 600\n",
      "loss: 0.00000\n",
      "eval avg reward: 0.00000\n",
      "best score: 0.00000\n",
      "eval_avg_ep_len 20.00000\n",
      "grad_norm nan\n",
      "lr 0.00006\n"
     ]
    },
    {
     "name": "stderr",
     "output_type": "stream",
     "text": [
      "/Users/kaustubhdighe/Documents/MIT/6.8200/project/experiment_notebooks/../data/convertor.py:31: RuntimeWarning: divide by zero encountered in scalar divide\n",
      "  return value / self.scale\n",
      "/Users/kaustubhdighe/Documents/MIT/6.8200/project/experiment_notebooks/../data/convertor.py:31: RuntimeWarning: invalid value encountered in scalar divide\n",
      "  return value / self.scale\n"
     ]
    },
    {
     "name": "stdout",
     "output_type": "stream",
     "text": [
      "achieved average reward:  0.0\n",
      "saving max score model at: /Users/kaustubhdighe/Documents/MIT/6.8200/project/logs/dt_runs/dt_first-small-door-key-experiment_model_24-05-10-08-25-09_best.pt\n",
      "============================================================\n",
      "time elapsed: 0:02:17\n",
      "num of updates: 700\n",
      "loss: 0.00000\n",
      "eval avg reward: 0.00000\n",
      "best score: 0.00000\n",
      "eval_avg_ep_len 20.00000\n",
      "grad_norm nan\n",
      "lr 0.00007\n"
     ]
    },
    {
     "name": "stderr",
     "output_type": "stream",
     "text": [
      "/Users/kaustubhdighe/Documents/MIT/6.8200/project/experiment_notebooks/../data/convertor.py:31: RuntimeWarning: divide by zero encountered in scalar divide\n",
      "  return value / self.scale\n",
      "/Users/kaustubhdighe/Documents/MIT/6.8200/project/experiment_notebooks/../data/convertor.py:31: RuntimeWarning: invalid value encountered in scalar divide\n",
      "  return value / self.scale\n"
     ]
    },
    {
     "name": "stdout",
     "output_type": "stream",
     "text": [
      "achieved average reward:  0.0\n",
      "saving max score model at: /Users/kaustubhdighe/Documents/MIT/6.8200/project/logs/dt_runs/dt_first-small-door-key-experiment_model_24-05-10-08-25-09_best.pt\n",
      "============================================================\n",
      "time elapsed: 0:02:37\n",
      "num of updates: 800\n",
      "loss: 0.00000\n",
      "eval avg reward: 0.00000\n",
      "best score: 0.00000\n",
      "eval_avg_ep_len 20.00000\n",
      "grad_norm nan\n",
      "lr 0.00008\n"
     ]
    },
    {
     "name": "stderr",
     "output_type": "stream",
     "text": [
      "/Users/kaustubhdighe/Documents/MIT/6.8200/project/experiment_notebooks/../data/convertor.py:31: RuntimeWarning: divide by zero encountered in scalar divide\n",
      "  return value / self.scale\n",
      "/Users/kaustubhdighe/Documents/MIT/6.8200/project/experiment_notebooks/../data/convertor.py:31: RuntimeWarning: invalid value encountered in scalar divide\n",
      "  return value / self.scale\n"
     ]
    },
    {
     "name": "stdout",
     "output_type": "stream",
     "text": [
      "achieved average reward:  0.0\n",
      "saving max score model at: /Users/kaustubhdighe/Documents/MIT/6.8200/project/logs/dt_runs/dt_first-small-door-key-experiment_model_24-05-10-08-25-09_best.pt\n",
      "============================================================\n",
      "time elapsed: 0:02:58\n",
      "num of updates: 900\n",
      "loss: 0.00000\n",
      "eval avg reward: 0.00000\n",
      "best score: 0.00000\n",
      "eval_avg_ep_len 20.00000\n",
      "grad_norm nan\n",
      "lr 0.00009\n"
     ]
    },
    {
     "name": "stderr",
     "output_type": "stream",
     "text": [
      "/Users/kaustubhdighe/Documents/MIT/6.8200/project/experiment_notebooks/../data/convertor.py:31: RuntimeWarning: divide by zero encountered in scalar divide\n",
      "  return value / self.scale\n",
      "/Users/kaustubhdighe/Documents/MIT/6.8200/project/experiment_notebooks/../data/convertor.py:31: RuntimeWarning: invalid value encountered in scalar divide\n",
      "  return value / self.scale\n"
     ]
    },
    {
     "name": "stdout",
     "output_type": "stream",
     "text": [
      "achieved average reward:  0.0\n",
      "saving max score model at: /Users/kaustubhdighe/Documents/MIT/6.8200/project/logs/dt_runs/dt_first-small-door-key-experiment_model_24-05-10-08-25-09_best.pt\n",
      "============================================================\n",
      "time elapsed: 0:03:19\n",
      "num of updates: 1000\n",
      "loss: 0.00000\n",
      "eval avg reward: 0.00000\n",
      "best score: 0.00000\n",
      "eval_avg_ep_len 20.00000\n",
      "grad_norm nan\n",
      "lr 0.00010\n"
     ]
    },
    {
     "name": "stderr",
     "output_type": "stream",
     "text": [
      "/Users/kaustubhdighe/Documents/MIT/6.8200/project/experiment_notebooks/../data/convertor.py:31: RuntimeWarning: divide by zero encountered in scalar divide\n",
      "  return value / self.scale\n",
      "/Users/kaustubhdighe/Documents/MIT/6.8200/project/experiment_notebooks/../data/convertor.py:31: RuntimeWarning: invalid value encountered in scalar divide\n",
      "  return value / self.scale\n"
     ]
    },
    {
     "name": "stdout",
     "output_type": "stream",
     "text": [
      "achieved average reward:  0.0\n",
      "saving max score model at: /Users/kaustubhdighe/Documents/MIT/6.8200/project/logs/dt_runs/dt_first-small-door-key-experiment_model_24-05-10-08-25-09_best.pt\n",
      "============================================================\n",
      "time elapsed: 0:03:39\n",
      "num of updates: 1100\n",
      "loss: 0.00000\n",
      "eval avg reward: 0.00000\n",
      "best score: 0.00000\n",
      "eval_avg_ep_len 20.00000\n",
      "grad_norm nan\n",
      "lr 0.00011\n"
     ]
    },
    {
     "name": "stderr",
     "output_type": "stream",
     "text": [
      "/Users/kaustubhdighe/Documents/MIT/6.8200/project/experiment_notebooks/../data/convertor.py:31: RuntimeWarning: divide by zero encountered in scalar divide\n",
      "  return value / self.scale\n",
      "/Users/kaustubhdighe/Documents/MIT/6.8200/project/experiment_notebooks/../data/convertor.py:31: RuntimeWarning: invalid value encountered in scalar divide\n",
      "  return value / self.scale\n"
     ]
    },
    {
     "name": "stdout",
     "output_type": "stream",
     "text": [
      "achieved average reward:  0.0\n",
      "saving max score model at: /Users/kaustubhdighe/Documents/MIT/6.8200/project/logs/dt_runs/dt_first-small-door-key-experiment_model_24-05-10-08-25-09_best.pt\n",
      "============================================================\n",
      "time elapsed: 0:04:00\n",
      "num of updates: 1200\n",
      "loss: 0.00000\n",
      "eval avg reward: 0.00000\n",
      "best score: 0.00000\n",
      "eval_avg_ep_len 20.00000\n",
      "grad_norm nan\n",
      "lr 0.00012\n"
     ]
    },
    {
     "name": "stderr",
     "output_type": "stream",
     "text": [
      "/Users/kaustubhdighe/Documents/MIT/6.8200/project/experiment_notebooks/../data/convertor.py:31: RuntimeWarning: divide by zero encountered in scalar divide\n",
      "  return value / self.scale\n",
      "/Users/kaustubhdighe/Documents/MIT/6.8200/project/experiment_notebooks/../data/convertor.py:31: RuntimeWarning: invalid value encountered in scalar divide\n",
      "  return value / self.scale\n"
     ]
    },
    {
     "name": "stdout",
     "output_type": "stream",
     "text": [
      "achieved average reward:  0.0\n",
      "saving max score model at: /Users/kaustubhdighe/Documents/MIT/6.8200/project/logs/dt_runs/dt_first-small-door-key-experiment_model_24-05-10-08-25-09_best.pt\n",
      "============================================================\n",
      "time elapsed: 0:04:19\n",
      "num of updates: 1300\n",
      "loss: 0.00000\n",
      "eval avg reward: 0.00000\n",
      "best score: 0.00000\n",
      "eval_avg_ep_len 20.00000\n",
      "grad_norm nan\n",
      "lr 0.00013\n"
     ]
    },
    {
     "name": "stderr",
     "output_type": "stream",
     "text": [
      "/Users/kaustubhdighe/Documents/MIT/6.8200/project/experiment_notebooks/../data/convertor.py:31: RuntimeWarning: divide by zero encountered in scalar divide\n",
      "  return value / self.scale\n",
      "/Users/kaustubhdighe/Documents/MIT/6.8200/project/experiment_notebooks/../data/convertor.py:31: RuntimeWarning: invalid value encountered in scalar divide\n",
      "  return value / self.scale\n"
     ]
    },
    {
     "name": "stdout",
     "output_type": "stream",
     "text": [
      "achieved average reward:  0.0\n",
      "saving max score model at: /Users/kaustubhdighe/Documents/MIT/6.8200/project/logs/dt_runs/dt_first-small-door-key-experiment_model_24-05-10-08-25-09_best.pt\n",
      "============================================================\n",
      "time elapsed: 0:04:37\n",
      "num of updates: 1400\n",
      "loss: 0.00000\n",
      "eval avg reward: 0.00000\n",
      "best score: 0.00000\n",
      "eval_avg_ep_len 20.00000\n",
      "grad_norm nan\n",
      "lr 0.00014\n"
     ]
    },
    {
     "name": "stderr",
     "output_type": "stream",
     "text": [
      "/Users/kaustubhdighe/Documents/MIT/6.8200/project/experiment_notebooks/../data/convertor.py:31: RuntimeWarning: divide by zero encountered in scalar divide\n",
      "  return value / self.scale\n",
      "/Users/kaustubhdighe/Documents/MIT/6.8200/project/experiment_notebooks/../data/convertor.py:31: RuntimeWarning: invalid value encountered in scalar divide\n",
      "  return value / self.scale\n"
     ]
    },
    {
     "name": "stdout",
     "output_type": "stream",
     "text": [
      "achieved average reward:  0.0\n",
      "saving max score model at: /Users/kaustubhdighe/Documents/MIT/6.8200/project/logs/dt_runs/dt_first-small-door-key-experiment_model_24-05-10-08-25-09_best.pt\n",
      "============================================================\n",
      "time elapsed: 0:04:56\n",
      "num of updates: 1500\n",
      "loss: 0.00000\n",
      "eval avg reward: 0.00000\n",
      "best score: 0.00000\n",
      "eval_avg_ep_len 20.00000\n",
      "grad_norm nan\n",
      "lr 0.00015\n"
     ]
    },
    {
     "name": "stderr",
     "output_type": "stream",
     "text": [
      "/Users/kaustubhdighe/Documents/MIT/6.8200/project/experiment_notebooks/../data/convertor.py:31: RuntimeWarning: divide by zero encountered in scalar divide\n",
      "  return value / self.scale\n",
      "/Users/kaustubhdighe/Documents/MIT/6.8200/project/experiment_notebooks/../data/convertor.py:31: RuntimeWarning: invalid value encountered in scalar divide\n",
      "  return value / self.scale\n"
     ]
    },
    {
     "name": "stdout",
     "output_type": "stream",
     "text": [
      "achieved average reward:  0.0\n",
      "saving max score model at: /Users/kaustubhdighe/Documents/MIT/6.8200/project/logs/dt_runs/dt_first-small-door-key-experiment_model_24-05-10-08-25-09_best.pt\n",
      "============================================================\n",
      "time elapsed: 0:05:15\n",
      "num of updates: 1600\n",
      "loss: 0.00000\n",
      "eval avg reward: 0.00000\n",
      "best score: 0.00000\n",
      "eval_avg_ep_len 20.00000\n",
      "grad_norm nan\n",
      "lr 0.00016\n"
     ]
    },
    {
     "name": "stderr",
     "output_type": "stream",
     "text": [
      "/Users/kaustubhdighe/Documents/MIT/6.8200/project/experiment_notebooks/../data/convertor.py:31: RuntimeWarning: divide by zero encountered in scalar divide\n",
      "  return value / self.scale\n",
      "/Users/kaustubhdighe/Documents/MIT/6.8200/project/experiment_notebooks/../data/convertor.py:31: RuntimeWarning: invalid value encountered in scalar divide\n",
      "  return value / self.scale\n"
     ]
    },
    {
     "name": "stdout",
     "output_type": "stream",
     "text": [
      "achieved average reward:  0.0\n",
      "saving max score model at: /Users/kaustubhdighe/Documents/MIT/6.8200/project/logs/dt_runs/dt_first-small-door-key-experiment_model_24-05-10-08-25-09_best.pt\n",
      "============================================================\n",
      "time elapsed: 0:05:37\n",
      "num of updates: 1700\n",
      "loss: 0.00000\n",
      "eval avg reward: 0.00000\n",
      "best score: 0.00000\n",
      "eval_avg_ep_len 20.00000\n",
      "grad_norm nan\n",
      "lr 0.00017\n"
     ]
    },
    {
     "name": "stderr",
     "output_type": "stream",
     "text": [
      "/Users/kaustubhdighe/Documents/MIT/6.8200/project/experiment_notebooks/../data/convertor.py:31: RuntimeWarning: divide by zero encountered in scalar divide\n",
      "  return value / self.scale\n",
      "/Users/kaustubhdighe/Documents/MIT/6.8200/project/experiment_notebooks/../data/convertor.py:31: RuntimeWarning: invalid value encountered in scalar divide\n",
      "  return value / self.scale\n"
     ]
    },
    {
     "name": "stdout",
     "output_type": "stream",
     "text": [
      "achieved average reward:  0.0\n",
      "saving max score model at: /Users/kaustubhdighe/Documents/MIT/6.8200/project/logs/dt_runs/dt_first-small-door-key-experiment_model_24-05-10-08-25-09_best.pt\n",
      "============================================================\n",
      "time elapsed: 0:05:56\n",
      "num of updates: 1800\n",
      "loss: 0.00000\n",
      "eval avg reward: 0.00000\n",
      "best score: 0.00000\n",
      "eval_avg_ep_len 20.00000\n",
      "grad_norm nan\n",
      "lr 0.00018\n"
     ]
    },
    {
     "name": "stderr",
     "output_type": "stream",
     "text": [
      "/Users/kaustubhdighe/Documents/MIT/6.8200/project/experiment_notebooks/../data/convertor.py:31: RuntimeWarning: divide by zero encountered in scalar divide\n",
      "  return value / self.scale\n",
      "/Users/kaustubhdighe/Documents/MIT/6.8200/project/experiment_notebooks/../data/convertor.py:31: RuntimeWarning: invalid value encountered in scalar divide\n",
      "  return value / self.scale\n"
     ]
    },
    {
     "name": "stdout",
     "output_type": "stream",
     "text": [
      "achieved average reward:  0.0\n",
      "saving max score model at: /Users/kaustubhdighe/Documents/MIT/6.8200/project/logs/dt_runs/dt_first-small-door-key-experiment_model_24-05-10-08-25-09_best.pt\n",
      "============================================================\n",
      "time elapsed: 0:06:16\n",
      "num of updates: 1900\n",
      "loss: 0.00000\n",
      "eval avg reward: 0.00000\n",
      "best score: 0.00000\n",
      "eval_avg_ep_len 20.00000\n",
      "grad_norm nan\n",
      "lr 0.00019\n"
     ]
    },
    {
     "name": "stderr",
     "output_type": "stream",
     "text": [
      "/Users/kaustubhdighe/Documents/MIT/6.8200/project/experiment_notebooks/../data/convertor.py:31: RuntimeWarning: divide by zero encountered in scalar divide\n",
      "  return value / self.scale\n",
      "/Users/kaustubhdighe/Documents/MIT/6.8200/project/experiment_notebooks/../data/convertor.py:31: RuntimeWarning: invalid value encountered in scalar divide\n",
      "  return value / self.scale\n"
     ]
    },
    {
     "name": "stdout",
     "output_type": "stream",
     "text": [
      "achieved average reward:  0.0\n",
      "saving max score model at: /Users/kaustubhdighe/Documents/MIT/6.8200/project/logs/dt_runs/dt_first-small-door-key-experiment_model_24-05-10-08-25-09_best.pt\n",
      "============================================================\n",
      "time elapsed: 0:06:36\n",
      "num of updates: 2000\n",
      "loss: 0.00000\n",
      "eval avg reward: 0.00000\n",
      "best score: 0.00000\n",
      "eval_avg_ep_len 20.00000\n",
      "grad_norm nan\n",
      "lr 0.00020\n"
     ]
    },
    {
     "name": "stderr",
     "output_type": "stream",
     "text": [
      "/Users/kaustubhdighe/Documents/MIT/6.8200/project/experiment_notebooks/../data/convertor.py:31: RuntimeWarning: divide by zero encountered in scalar divide\n",
      "  return value / self.scale\n",
      "/Users/kaustubhdighe/Documents/MIT/6.8200/project/experiment_notebooks/../data/convertor.py:31: RuntimeWarning: invalid value encountered in scalar divide\n",
      "  return value / self.scale\n"
     ]
    },
    {
     "name": "stdout",
     "output_type": "stream",
     "text": [
      "achieved average reward:  0.0\n",
      "saving max score model at: /Users/kaustubhdighe/Documents/MIT/6.8200/project/logs/dt_runs/dt_first-small-door-key-experiment_model_24-05-10-08-25-09_best.pt\n",
      "============================================================\n",
      "time elapsed: 0:06:57\n",
      "num of updates: 2100\n",
      "loss: 0.00000\n",
      "eval avg reward: 0.00000\n",
      "best score: 0.00000\n",
      "eval_avg_ep_len 20.00000\n",
      "grad_norm nan\n",
      "lr 0.00021\n"
     ]
    },
    {
     "name": "stderr",
     "output_type": "stream",
     "text": [
      "/Users/kaustubhdighe/Documents/MIT/6.8200/project/experiment_notebooks/../data/convertor.py:31: RuntimeWarning: divide by zero encountered in scalar divide\n",
      "  return value / self.scale\n",
      "/Users/kaustubhdighe/Documents/MIT/6.8200/project/experiment_notebooks/../data/convertor.py:31: RuntimeWarning: invalid value encountered in scalar divide\n",
      "  return value / self.scale\n"
     ]
    },
    {
     "name": "stdout",
     "output_type": "stream",
     "text": [
      "achieved average reward:  0.0\n",
      "saving max score model at: /Users/kaustubhdighe/Documents/MIT/6.8200/project/logs/dt_runs/dt_first-small-door-key-experiment_model_24-05-10-08-25-09_best.pt\n",
      "============================================================\n",
      "time elapsed: 0:07:18\n",
      "num of updates: 2200\n",
      "loss: 0.00000\n",
      "eval avg reward: 0.00000\n",
      "best score: 0.00000\n",
      "eval_avg_ep_len 20.00000\n",
      "grad_norm nan\n",
      "lr 0.00022\n"
     ]
    },
    {
     "name": "stderr",
     "output_type": "stream",
     "text": [
      "/Users/kaustubhdighe/Documents/MIT/6.8200/project/experiment_notebooks/../data/convertor.py:31: RuntimeWarning: divide by zero encountered in scalar divide\n",
      "  return value / self.scale\n",
      "/Users/kaustubhdighe/Documents/MIT/6.8200/project/experiment_notebooks/../data/convertor.py:31: RuntimeWarning: invalid value encountered in scalar divide\n",
      "  return value / self.scale\n"
     ]
    },
    {
     "name": "stdout",
     "output_type": "stream",
     "text": [
      "achieved average reward:  0.0\n",
      "saving max score model at: /Users/kaustubhdighe/Documents/MIT/6.8200/project/logs/dt_runs/dt_first-small-door-key-experiment_model_24-05-10-08-25-09_best.pt\n",
      "============================================================\n",
      "time elapsed: 0:07:39\n",
      "num of updates: 2300\n",
      "loss: 0.00000\n",
      "eval avg reward: 0.00000\n",
      "best score: 0.00000\n",
      "eval_avg_ep_len 20.00000\n",
      "grad_norm nan\n",
      "lr 0.00023\n"
     ]
    },
    {
     "name": "stderr",
     "output_type": "stream",
     "text": [
      "/Users/kaustubhdighe/Documents/MIT/6.8200/project/experiment_notebooks/../data/convertor.py:31: RuntimeWarning: divide by zero encountered in scalar divide\n",
      "  return value / self.scale\n",
      "/Users/kaustubhdighe/Documents/MIT/6.8200/project/experiment_notebooks/../data/convertor.py:31: RuntimeWarning: invalid value encountered in scalar divide\n",
      "  return value / self.scale\n"
     ]
    },
    {
     "name": "stdout",
     "output_type": "stream",
     "text": [
      "achieved average reward:  0.0\n",
      "saving max score model at: /Users/kaustubhdighe/Documents/MIT/6.8200/project/logs/dt_runs/dt_first-small-door-key-experiment_model_24-05-10-08-25-09_best.pt\n",
      "============================================================\n",
      "time elapsed: 0:08:00\n",
      "num of updates: 2400\n",
      "loss: 0.00000\n",
      "eval avg reward: 0.00000\n",
      "best score: 0.00000\n",
      "eval_avg_ep_len 20.00000\n",
      "grad_norm nan\n",
      "lr 0.00024\n"
     ]
    },
    {
     "name": "stderr",
     "output_type": "stream",
     "text": [
      "/Users/kaustubhdighe/Documents/MIT/6.8200/project/experiment_notebooks/../data/convertor.py:31: RuntimeWarning: divide by zero encountered in scalar divide\n",
      "  return value / self.scale\n",
      "/Users/kaustubhdighe/Documents/MIT/6.8200/project/experiment_notebooks/../data/convertor.py:31: RuntimeWarning: invalid value encountered in scalar divide\n",
      "  return value / self.scale\n"
     ]
    },
    {
     "name": "stdout",
     "output_type": "stream",
     "text": [
      "achieved average reward:  0.0\n",
      "saving max score model at: /Users/kaustubhdighe/Documents/MIT/6.8200/project/logs/dt_runs/dt_first-small-door-key-experiment_model_24-05-10-08-25-09_best.pt\n",
      "============================================================\n",
      "time elapsed: 0:08:22\n",
      "num of updates: 2500\n",
      "loss: 0.00000\n",
      "eval avg reward: 0.00000\n",
      "best score: 0.00000\n",
      "eval_avg_ep_len 20.00000\n",
      "grad_norm nan\n",
      "lr 0.00025\n"
     ]
    },
    {
     "name": "stderr",
     "output_type": "stream",
     "text": [
      "/Users/kaustubhdighe/Documents/MIT/6.8200/project/experiment_notebooks/../data/convertor.py:31: RuntimeWarning: divide by zero encountered in scalar divide\n",
      "  return value / self.scale\n",
      "/Users/kaustubhdighe/Documents/MIT/6.8200/project/experiment_notebooks/../data/convertor.py:31: RuntimeWarning: invalid value encountered in scalar divide\n",
      "  return value / self.scale\n"
     ]
    },
    {
     "name": "stdout",
     "output_type": "stream",
     "text": [
      "achieved average reward:  0.0\n",
      "saving max score model at: /Users/kaustubhdighe/Documents/MIT/6.8200/project/logs/dt_runs/dt_first-small-door-key-experiment_model_24-05-10-08-25-09_best.pt\n",
      "============================================================\n",
      "time elapsed: 0:08:43\n",
      "num of updates: 2600\n",
      "loss: 0.00000\n",
      "eval avg reward: 0.00000\n",
      "best score: 0.00000\n",
      "eval_avg_ep_len 20.00000\n",
      "grad_norm nan\n",
      "lr 0.00026\n"
     ]
    },
    {
     "name": "stderr",
     "output_type": "stream",
     "text": [
      "/Users/kaustubhdighe/Documents/MIT/6.8200/project/experiment_notebooks/../data/convertor.py:31: RuntimeWarning: divide by zero encountered in scalar divide\n",
      "  return value / self.scale\n",
      "/Users/kaustubhdighe/Documents/MIT/6.8200/project/experiment_notebooks/../data/convertor.py:31: RuntimeWarning: invalid value encountered in scalar divide\n",
      "  return value / self.scale\n"
     ]
    },
    {
     "name": "stdout",
     "output_type": "stream",
     "text": [
      "achieved average reward:  0.0\n",
      "saving max score model at: /Users/kaustubhdighe/Documents/MIT/6.8200/project/logs/dt_runs/dt_first-small-door-key-experiment_model_24-05-10-08-25-09_best.pt\n",
      "============================================================\n",
      "time elapsed: 0:09:03\n",
      "num of updates: 2700\n",
      "loss: 0.00000\n",
      "eval avg reward: 0.00000\n",
      "best score: 0.00000\n",
      "eval_avg_ep_len 20.00000\n",
      "grad_norm nan\n",
      "lr 0.00027\n"
     ]
    },
    {
     "name": "stderr",
     "output_type": "stream",
     "text": [
      "/Users/kaustubhdighe/Documents/MIT/6.8200/project/experiment_notebooks/../data/convertor.py:31: RuntimeWarning: divide by zero encountered in scalar divide\n",
      "  return value / self.scale\n",
      "/Users/kaustubhdighe/Documents/MIT/6.8200/project/experiment_notebooks/../data/convertor.py:31: RuntimeWarning: invalid value encountered in scalar divide\n",
      "  return value / self.scale\n"
     ]
    },
    {
     "name": "stdout",
     "output_type": "stream",
     "text": [
      "achieved average reward:  0.0\n",
      "saving max score model at: /Users/kaustubhdighe/Documents/MIT/6.8200/project/logs/dt_runs/dt_first-small-door-key-experiment_model_24-05-10-08-25-09_best.pt\n",
      "============================================================\n",
      "time elapsed: 0:09:23\n",
      "num of updates: 2800\n",
      "loss: 0.00000\n",
      "eval avg reward: 0.00000\n",
      "best score: 0.00000\n",
      "eval_avg_ep_len 20.00000\n",
      "grad_norm nan\n",
      "lr 0.00028\n"
     ]
    },
    {
     "name": "stderr",
     "output_type": "stream",
     "text": [
      "/Users/kaustubhdighe/Documents/MIT/6.8200/project/experiment_notebooks/../data/convertor.py:31: RuntimeWarning: divide by zero encountered in scalar divide\n",
      "  return value / self.scale\n",
      "/Users/kaustubhdighe/Documents/MIT/6.8200/project/experiment_notebooks/../data/convertor.py:31: RuntimeWarning: invalid value encountered in scalar divide\n",
      "  return value / self.scale\n"
     ]
    },
    {
     "name": "stdout",
     "output_type": "stream",
     "text": [
      "achieved average reward:  0.0\n",
      "saving max score model at: /Users/kaustubhdighe/Documents/MIT/6.8200/project/logs/dt_runs/dt_first-small-door-key-experiment_model_24-05-10-08-25-09_best.pt\n",
      "============================================================\n",
      "time elapsed: 0:09:43\n",
      "num of updates: 2900\n",
      "loss: 0.00000\n",
      "eval avg reward: 0.00000\n",
      "best score: 0.00000\n",
      "eval_avg_ep_len 20.00000\n",
      "grad_norm nan\n",
      "lr 0.00029\n"
     ]
    },
    {
     "name": "stderr",
     "output_type": "stream",
     "text": [
      "/Users/kaustubhdighe/Documents/MIT/6.8200/project/experiment_notebooks/../data/convertor.py:31: RuntimeWarning: divide by zero encountered in scalar divide\n",
      "  return value / self.scale\n",
      "/Users/kaustubhdighe/Documents/MIT/6.8200/project/experiment_notebooks/../data/convertor.py:31: RuntimeWarning: invalid value encountered in scalar divide\n",
      "  return value / self.scale\n"
     ]
    },
    {
     "name": "stdout",
     "output_type": "stream",
     "text": [
      "achieved average reward:  0.0\n",
      "saving max score model at: /Users/kaustubhdighe/Documents/MIT/6.8200/project/logs/dt_runs/dt_first-small-door-key-experiment_model_24-05-10-08-25-09_best.pt\n",
      "============================================================\n",
      "time elapsed: 0:10:04\n",
      "num of updates: 3000\n",
      "loss: 0.00000\n",
      "eval avg reward: 0.00000\n",
      "best score: 0.00000\n",
      "eval_avg_ep_len 20.00000\n",
      "grad_norm nan\n",
      "lr 0.00030\n"
     ]
    },
    {
     "name": "stderr",
     "output_type": "stream",
     "text": [
      "/Users/kaustubhdighe/Documents/MIT/6.8200/project/experiment_notebooks/../data/convertor.py:31: RuntimeWarning: divide by zero encountered in scalar divide\n",
      "  return value / self.scale\n",
      "/Users/kaustubhdighe/Documents/MIT/6.8200/project/experiment_notebooks/../data/convertor.py:31: RuntimeWarning: invalid value encountered in scalar divide\n",
      "  return value / self.scale\n"
     ]
    },
    {
     "name": "stdout",
     "output_type": "stream",
     "text": [
      "achieved average reward:  0.0\n",
      "saving max score model at: /Users/kaustubhdighe/Documents/MIT/6.8200/project/logs/dt_runs/dt_first-small-door-key-experiment_model_24-05-10-08-25-09_best.pt\n",
      "============================================================\n",
      "time elapsed: 0:10:24\n",
      "num of updates: 3100\n",
      "loss: 0.00000\n",
      "eval avg reward: 0.00000\n",
      "best score: 0.00000\n",
      "eval_avg_ep_len 20.00000\n",
      "grad_norm nan\n",
      "lr 0.00031\n"
     ]
    },
    {
     "name": "stderr",
     "output_type": "stream",
     "text": [
      "/Users/kaustubhdighe/Documents/MIT/6.8200/project/experiment_notebooks/../data/convertor.py:31: RuntimeWarning: divide by zero encountered in scalar divide\n",
      "  return value / self.scale\n",
      "/Users/kaustubhdighe/Documents/MIT/6.8200/project/experiment_notebooks/../data/convertor.py:31: RuntimeWarning: invalid value encountered in scalar divide\n",
      "  return value / self.scale\n"
     ]
    },
    {
     "name": "stdout",
     "output_type": "stream",
     "text": [
      "achieved average reward:  0.0\n",
      "saving max score model at: /Users/kaustubhdighe/Documents/MIT/6.8200/project/logs/dt_runs/dt_first-small-door-key-experiment_model_24-05-10-08-25-09_best.pt\n",
      "============================================================\n",
      "time elapsed: 0:10:45\n",
      "num of updates: 3200\n",
      "loss: 0.00000\n",
      "eval avg reward: 0.00000\n",
      "best score: 0.00000\n",
      "eval_avg_ep_len 20.00000\n",
      "grad_norm nan\n",
      "lr 0.00032\n"
     ]
    },
    {
     "name": "stderr",
     "output_type": "stream",
     "text": [
      "/Users/kaustubhdighe/Documents/MIT/6.8200/project/experiment_notebooks/../data/convertor.py:31: RuntimeWarning: divide by zero encountered in scalar divide\n",
      "  return value / self.scale\n",
      "/Users/kaustubhdighe/Documents/MIT/6.8200/project/experiment_notebooks/../data/convertor.py:31: RuntimeWarning: invalid value encountered in scalar divide\n",
      "  return value / self.scale\n"
     ]
    },
    {
     "name": "stdout",
     "output_type": "stream",
     "text": [
      "achieved average reward:  0.0\n",
      "saving max score model at: /Users/kaustubhdighe/Documents/MIT/6.8200/project/logs/dt_runs/dt_first-small-door-key-experiment_model_24-05-10-08-25-09_best.pt\n",
      "============================================================\n",
      "time elapsed: 0:11:06\n",
      "num of updates: 3300\n",
      "loss: 0.00000\n",
      "eval avg reward: 0.00000\n",
      "best score: 0.00000\n",
      "eval_avg_ep_len 20.00000\n",
      "grad_norm nan\n",
      "lr 0.00033\n"
     ]
    },
    {
     "name": "stderr",
     "output_type": "stream",
     "text": [
      "/Users/kaustubhdighe/Documents/MIT/6.8200/project/experiment_notebooks/../data/convertor.py:31: RuntimeWarning: divide by zero encountered in scalar divide\n",
      "  return value / self.scale\n",
      "/Users/kaustubhdighe/Documents/MIT/6.8200/project/experiment_notebooks/../data/convertor.py:31: RuntimeWarning: invalid value encountered in scalar divide\n",
      "  return value / self.scale\n"
     ]
    },
    {
     "name": "stdout",
     "output_type": "stream",
     "text": [
      "achieved average reward:  0.0\n",
      "saving max score model at: /Users/kaustubhdighe/Documents/MIT/6.8200/project/logs/dt_runs/dt_first-small-door-key-experiment_model_24-05-10-08-25-09_best.pt\n",
      "============================================================\n",
      "time elapsed: 0:11:27\n",
      "num of updates: 3400\n",
      "loss: 0.00000\n",
      "eval avg reward: 0.00000\n",
      "best score: 0.00000\n",
      "eval_avg_ep_len 20.00000\n",
      "grad_norm nan\n",
      "lr 0.00034\n"
     ]
    },
    {
     "name": "stderr",
     "output_type": "stream",
     "text": [
      "/Users/kaustubhdighe/Documents/MIT/6.8200/project/experiment_notebooks/../data/convertor.py:31: RuntimeWarning: divide by zero encountered in scalar divide\n",
      "  return value / self.scale\n",
      "/Users/kaustubhdighe/Documents/MIT/6.8200/project/experiment_notebooks/../data/convertor.py:31: RuntimeWarning: invalid value encountered in scalar divide\n",
      "  return value / self.scale\n"
     ]
    },
    {
     "name": "stdout",
     "output_type": "stream",
     "text": [
      "achieved average reward:  0.0\n",
      "saving max score model at: /Users/kaustubhdighe/Documents/MIT/6.8200/project/logs/dt_runs/dt_first-small-door-key-experiment_model_24-05-10-08-25-09_best.pt\n",
      "============================================================\n",
      "time elapsed: 0:11:47\n",
      "num of updates: 3500\n",
      "loss: 0.00000\n",
      "eval avg reward: 0.00000\n",
      "best score: 0.00000\n",
      "eval_avg_ep_len 20.00000\n",
      "grad_norm nan\n",
      "lr 0.00035\n"
     ]
    },
    {
     "name": "stderr",
     "output_type": "stream",
     "text": [
      "/Users/kaustubhdighe/Documents/MIT/6.8200/project/experiment_notebooks/../data/convertor.py:31: RuntimeWarning: divide by zero encountered in scalar divide\n",
      "  return value / self.scale\n",
      "/Users/kaustubhdighe/Documents/MIT/6.8200/project/experiment_notebooks/../data/convertor.py:31: RuntimeWarning: invalid value encountered in scalar divide\n",
      "  return value / self.scale\n"
     ]
    },
    {
     "name": "stdout",
     "output_type": "stream",
     "text": [
      "achieved average reward:  0.0\n",
      "saving max score model at: /Users/kaustubhdighe/Documents/MIT/6.8200/project/logs/dt_runs/dt_first-small-door-key-experiment_model_24-05-10-08-25-09_best.pt\n",
      "============================================================\n",
      "time elapsed: 0:12:08\n",
      "num of updates: 3600\n",
      "loss: 0.00000\n",
      "eval avg reward: 0.00000\n",
      "best score: 0.00000\n",
      "eval_avg_ep_len 20.00000\n",
      "grad_norm nan\n",
      "lr 0.00036\n"
     ]
    },
    {
     "name": "stderr",
     "output_type": "stream",
     "text": [
      "/Users/kaustubhdighe/Documents/MIT/6.8200/project/experiment_notebooks/../data/convertor.py:31: RuntimeWarning: divide by zero encountered in scalar divide\n",
      "  return value / self.scale\n",
      "/Users/kaustubhdighe/Documents/MIT/6.8200/project/experiment_notebooks/../data/convertor.py:31: RuntimeWarning: invalid value encountered in scalar divide\n",
      "  return value / self.scale\n"
     ]
    },
    {
     "name": "stdout",
     "output_type": "stream",
     "text": [
      "achieved average reward:  0.0\n",
      "saving max score model at: /Users/kaustubhdighe/Documents/MIT/6.8200/project/logs/dt_runs/dt_first-small-door-key-experiment_model_24-05-10-08-25-09_best.pt\n",
      "============================================================\n",
      "time elapsed: 0:12:28\n",
      "num of updates: 3700\n",
      "loss: 0.00000\n",
      "eval avg reward: 0.00000\n",
      "best score: 0.00000\n",
      "eval_avg_ep_len 20.00000\n",
      "grad_norm nan\n",
      "lr 0.00037\n"
     ]
    },
    {
     "name": "stderr",
     "output_type": "stream",
     "text": [
      "/Users/kaustubhdighe/Documents/MIT/6.8200/project/experiment_notebooks/../data/convertor.py:31: RuntimeWarning: divide by zero encountered in scalar divide\n",
      "  return value / self.scale\n",
      "/Users/kaustubhdighe/Documents/MIT/6.8200/project/experiment_notebooks/../data/convertor.py:31: RuntimeWarning: invalid value encountered in scalar divide\n",
      "  return value / self.scale\n"
     ]
    },
    {
     "name": "stdout",
     "output_type": "stream",
     "text": [
      "achieved average reward:  0.0\n",
      "saving max score model at: /Users/kaustubhdighe/Documents/MIT/6.8200/project/logs/dt_runs/dt_first-small-door-key-experiment_model_24-05-10-08-25-09_best.pt\n",
      "============================================================\n",
      "time elapsed: 0:12:50\n",
      "num of updates: 3800\n",
      "loss: 0.00000\n",
      "eval avg reward: 0.00000\n",
      "best score: 0.00000\n",
      "eval_avg_ep_len 20.00000\n",
      "grad_norm nan\n",
      "lr 0.00038\n"
     ]
    },
    {
     "name": "stderr",
     "output_type": "stream",
     "text": [
      "/Users/kaustubhdighe/Documents/MIT/6.8200/project/experiment_notebooks/../data/convertor.py:31: RuntimeWarning: divide by zero encountered in scalar divide\n",
      "  return value / self.scale\n",
      "/Users/kaustubhdighe/Documents/MIT/6.8200/project/experiment_notebooks/../data/convertor.py:31: RuntimeWarning: invalid value encountered in scalar divide\n",
      "  return value / self.scale\n"
     ]
    },
    {
     "name": "stdout",
     "output_type": "stream",
     "text": [
      "achieved average reward:  0.0\n",
      "saving max score model at: /Users/kaustubhdighe/Documents/MIT/6.8200/project/logs/dt_runs/dt_first-small-door-key-experiment_model_24-05-10-08-25-09_best.pt\n",
      "============================================================\n",
      "time elapsed: 0:13:10\n",
      "num of updates: 3900\n",
      "loss: 0.00000\n",
      "eval avg reward: 0.00000\n",
      "best score: 0.00000\n",
      "eval_avg_ep_len 20.00000\n",
      "grad_norm nan\n",
      "lr 0.00039\n"
     ]
    },
    {
     "name": "stderr",
     "output_type": "stream",
     "text": [
      "/Users/kaustubhdighe/Documents/MIT/6.8200/project/experiment_notebooks/../data/convertor.py:31: RuntimeWarning: divide by zero encountered in scalar divide\n",
      "  return value / self.scale\n",
      "/Users/kaustubhdighe/Documents/MIT/6.8200/project/experiment_notebooks/../data/convertor.py:31: RuntimeWarning: invalid value encountered in scalar divide\n",
      "  return value / self.scale\n"
     ]
    },
    {
     "name": "stdout",
     "output_type": "stream",
     "text": [
      "achieved average reward:  0.0\n",
      "saving max score model at: /Users/kaustubhdighe/Documents/MIT/6.8200/project/logs/dt_runs/dt_first-small-door-key-experiment_model_24-05-10-08-25-09_best.pt\n",
      "============================================================\n",
      "time elapsed: 0:13:31\n",
      "num of updates: 4000\n",
      "loss: 0.00000\n",
      "eval avg reward: 0.00000\n",
      "best score: 0.00000\n",
      "eval_avg_ep_len 20.00000\n",
      "grad_norm nan\n",
      "lr 0.00040\n"
     ]
    },
    {
     "name": "stderr",
     "output_type": "stream",
     "text": [
      "/Users/kaustubhdighe/Documents/MIT/6.8200/project/experiment_notebooks/../data/convertor.py:31: RuntimeWarning: divide by zero encountered in scalar divide\n",
      "  return value / self.scale\n",
      "/Users/kaustubhdighe/Documents/MIT/6.8200/project/experiment_notebooks/../data/convertor.py:31: RuntimeWarning: invalid value encountered in scalar divide\n",
      "  return value / self.scale\n"
     ]
    },
    {
     "name": "stdout",
     "output_type": "stream",
     "text": [
      "achieved average reward:  0.0\n",
      "saving max score model at: /Users/kaustubhdighe/Documents/MIT/6.8200/project/logs/dt_runs/dt_first-small-door-key-experiment_model_24-05-10-08-25-09_best.pt\n",
      "============================================================\n",
      "time elapsed: 0:13:53\n",
      "num of updates: 4100\n",
      "loss: 0.00000\n",
      "eval avg reward: 0.00000\n",
      "best score: 0.00000\n",
      "eval_avg_ep_len 20.00000\n",
      "grad_norm nan\n",
      "lr 0.00041\n"
     ]
    },
    {
     "name": "stderr",
     "output_type": "stream",
     "text": [
      "/Users/kaustubhdighe/Documents/MIT/6.8200/project/experiment_notebooks/../data/convertor.py:31: RuntimeWarning: divide by zero encountered in scalar divide\n",
      "  return value / self.scale\n",
      "/Users/kaustubhdighe/Documents/MIT/6.8200/project/experiment_notebooks/../data/convertor.py:31: RuntimeWarning: invalid value encountered in scalar divide\n",
      "  return value / self.scale\n"
     ]
    },
    {
     "name": "stdout",
     "output_type": "stream",
     "text": [
      "achieved average reward:  0.0\n",
      "saving max score model at: /Users/kaustubhdighe/Documents/MIT/6.8200/project/logs/dt_runs/dt_first-small-door-key-experiment_model_24-05-10-08-25-09_best.pt\n",
      "============================================================\n",
      "time elapsed: 0:14:13\n",
      "num of updates: 4200\n",
      "loss: 0.00000\n",
      "eval avg reward: 0.00000\n",
      "best score: 0.00000\n",
      "eval_avg_ep_len 20.00000\n",
      "grad_norm nan\n",
      "lr 0.00042\n"
     ]
    },
    {
     "name": "stderr",
     "output_type": "stream",
     "text": [
      "/Users/kaustubhdighe/Documents/MIT/6.8200/project/experiment_notebooks/../data/convertor.py:31: RuntimeWarning: divide by zero encountered in scalar divide\n",
      "  return value / self.scale\n",
      "/Users/kaustubhdighe/Documents/MIT/6.8200/project/experiment_notebooks/../data/convertor.py:31: RuntimeWarning: invalid value encountered in scalar divide\n",
      "  return value / self.scale\n"
     ]
    },
    {
     "name": "stdout",
     "output_type": "stream",
     "text": [
      "achieved average reward:  0.0\n",
      "saving max score model at: /Users/kaustubhdighe/Documents/MIT/6.8200/project/logs/dt_runs/dt_first-small-door-key-experiment_model_24-05-10-08-25-09_best.pt\n",
      "============================================================\n",
      "time elapsed: 0:14:33\n",
      "num of updates: 4300\n",
      "loss: 0.00000\n",
      "eval avg reward: 0.00000\n",
      "best score: 0.00000\n",
      "eval_avg_ep_len 20.00000\n",
      "grad_norm nan\n",
      "lr 0.00043\n"
     ]
    },
    {
     "name": "stderr",
     "output_type": "stream",
     "text": [
      "/Users/kaustubhdighe/Documents/MIT/6.8200/project/experiment_notebooks/../data/convertor.py:31: RuntimeWarning: divide by zero encountered in scalar divide\n",
      "  return value / self.scale\n",
      "/Users/kaustubhdighe/Documents/MIT/6.8200/project/experiment_notebooks/../data/convertor.py:31: RuntimeWarning: invalid value encountered in scalar divide\n",
      "  return value / self.scale\n"
     ]
    },
    {
     "name": "stdout",
     "output_type": "stream",
     "text": [
      "achieved average reward:  0.0\n",
      "saving max score model at: /Users/kaustubhdighe/Documents/MIT/6.8200/project/logs/dt_runs/dt_first-small-door-key-experiment_model_24-05-10-08-25-09_best.pt\n",
      "============================================================\n",
      "time elapsed: 0:14:54\n",
      "num of updates: 4400\n",
      "loss: 0.00000\n",
      "eval avg reward: 0.00000\n",
      "best score: 0.00000\n",
      "eval_avg_ep_len 20.00000\n",
      "grad_norm nan\n",
      "lr 0.00044\n"
     ]
    },
    {
     "name": "stderr",
     "output_type": "stream",
     "text": [
      "/Users/kaustubhdighe/Documents/MIT/6.8200/project/experiment_notebooks/../data/convertor.py:31: RuntimeWarning: divide by zero encountered in scalar divide\n",
      "  return value / self.scale\n",
      "/Users/kaustubhdighe/Documents/MIT/6.8200/project/experiment_notebooks/../data/convertor.py:31: RuntimeWarning: invalid value encountered in scalar divide\n",
      "  return value / self.scale\n"
     ]
    },
    {
     "name": "stdout",
     "output_type": "stream",
     "text": [
      "achieved average reward:  0.0\n",
      "saving max score model at: /Users/kaustubhdighe/Documents/MIT/6.8200/project/logs/dt_runs/dt_first-small-door-key-experiment_model_24-05-10-08-25-09_best.pt\n",
      "============================================================\n",
      "time elapsed: 0:15:14\n",
      "num of updates: 4500\n",
      "loss: 0.00000\n",
      "eval avg reward: 0.00000\n",
      "best score: 0.00000\n",
      "eval_avg_ep_len 20.00000\n",
      "grad_norm nan\n",
      "lr 0.00045\n"
     ]
    },
    {
     "name": "stderr",
     "output_type": "stream",
     "text": [
      "/Users/kaustubhdighe/Documents/MIT/6.8200/project/experiment_notebooks/../data/convertor.py:31: RuntimeWarning: divide by zero encountered in scalar divide\n",
      "  return value / self.scale\n",
      "/Users/kaustubhdighe/Documents/MIT/6.8200/project/experiment_notebooks/../data/convertor.py:31: RuntimeWarning: invalid value encountered in scalar divide\n",
      "  return value / self.scale\n"
     ]
    },
    {
     "name": "stdout",
     "output_type": "stream",
     "text": [
      "achieved average reward:  0.0\n",
      "saving max score model at: /Users/kaustubhdighe/Documents/MIT/6.8200/project/logs/dt_runs/dt_first-small-door-key-experiment_model_24-05-10-08-25-09_best.pt\n",
      "============================================================\n",
      "time elapsed: 0:15:34\n",
      "num of updates: 4600\n",
      "loss: 0.00000\n",
      "eval avg reward: 0.00000\n",
      "best score: 0.00000\n",
      "eval_avg_ep_len 20.00000\n",
      "grad_norm nan\n",
      "lr 0.00046\n"
     ]
    },
    {
     "name": "stderr",
     "output_type": "stream",
     "text": [
      "/Users/kaustubhdighe/Documents/MIT/6.8200/project/experiment_notebooks/../data/convertor.py:31: RuntimeWarning: divide by zero encountered in scalar divide\n",
      "  return value / self.scale\n",
      "/Users/kaustubhdighe/Documents/MIT/6.8200/project/experiment_notebooks/../data/convertor.py:31: RuntimeWarning: invalid value encountered in scalar divide\n",
      "  return value / self.scale\n"
     ]
    },
    {
     "name": "stdout",
     "output_type": "stream",
     "text": [
      "achieved average reward:  0.0\n",
      "saving max score model at: /Users/kaustubhdighe/Documents/MIT/6.8200/project/logs/dt_runs/dt_first-small-door-key-experiment_model_24-05-10-08-25-09_best.pt\n",
      "============================================================\n",
      "time elapsed: 0:15:55\n",
      "num of updates: 4700\n",
      "loss: 0.00000\n",
      "eval avg reward: 0.00000\n",
      "best score: 0.00000\n",
      "eval_avg_ep_len 20.00000\n",
      "grad_norm nan\n",
      "lr 0.00047\n"
     ]
    },
    {
     "name": "stderr",
     "output_type": "stream",
     "text": [
      "/Users/kaustubhdighe/Documents/MIT/6.8200/project/experiment_notebooks/../data/convertor.py:31: RuntimeWarning: divide by zero encountered in scalar divide\n",
      "  return value / self.scale\n",
      "/Users/kaustubhdighe/Documents/MIT/6.8200/project/experiment_notebooks/../data/convertor.py:31: RuntimeWarning: invalid value encountered in scalar divide\n",
      "  return value / self.scale\n"
     ]
    },
    {
     "name": "stdout",
     "output_type": "stream",
     "text": [
      "achieved average reward:  0.0\n",
      "saving max score model at: /Users/kaustubhdighe/Documents/MIT/6.8200/project/logs/dt_runs/dt_first-small-door-key-experiment_model_24-05-10-08-25-09_best.pt\n",
      "============================================================\n",
      "time elapsed: 0:16:16\n",
      "num of updates: 4800\n",
      "loss: 0.00000\n",
      "eval avg reward: 0.00000\n",
      "best score: 0.00000\n",
      "eval_avg_ep_len 20.00000\n",
      "grad_norm nan\n",
      "lr 0.00048\n"
     ]
    },
    {
     "ename": "KeyboardInterrupt",
     "evalue": "",
     "output_type": "error",
     "traceback": [
      "\u001b[0;31m---------------------------------------------------------------------------\u001b[0m",
      "\u001b[0;31mKeyboardInterrupt\u001b[0m                         Traceback (most recent call last)",
      "Cell \u001b[0;32mIn[10], line 1\u001b[0m\n\u001b[0;32m----> 1\u001b[0m report \u001b[38;5;241m=\u001b[39m \u001b[43mtrainer\u001b[49m\u001b[38;5;241;43m.\u001b[39;49m\u001b[43mtrain\u001b[49m\u001b[43m(\u001b[49m\u001b[43m)\u001b[49m\n",
      "File \u001b[0;32m~/Documents/MIT/6.8200/project/experiment_notebooks/../algorithms/sequence_models/trainer.py:36\u001b[0m, in \u001b[0;36mTrainer.train\u001b[0;34m(self)\u001b[0m\n\u001b[1;32m     34\u001b[0m df \u001b[38;5;241m=\u001b[39m []\n\u001b[1;32m     35\u001b[0m \u001b[38;5;28;01mfor\u001b[39;00m i_train_iter \u001b[38;5;129;01min\u001b[39;00m \u001b[38;5;28mrange\u001b[39m(\u001b[38;5;28mself\u001b[39m\u001b[38;5;241m.\u001b[39mconfig\u001b[38;5;241m.\u001b[39mmax_train_iters):\n\u001b[0;32m---> 36\u001b[0m     df_iter \u001b[38;5;241m=\u001b[39m \u001b[38;5;28;43mself\u001b[39;49m\u001b[38;5;241;43m.\u001b[39;49m\u001b[43mtrain_iteration\u001b[49m\u001b[43m(\u001b[49m\u001b[43m)\u001b[49m\n\u001b[1;32m     37\u001b[0m     df_iter[\u001b[38;5;124m'\u001b[39m\u001b[38;5;124mtrain/iteration\u001b[39m\u001b[38;5;124m'\u001b[39m] \u001b[38;5;241m=\u001b[39m i_train_iter\n\u001b[1;32m     38\u001b[0m     df\u001b[38;5;241m.\u001b[39mappend(df_iter)\n",
      "File \u001b[0;32m~/Documents/MIT/6.8200/project/experiment_notebooks/../algorithms/sequence_models/decision_transformer/trainer.py:26\u001b[0m, in \u001b[0;36mTrainerDT.train_iteration\u001b[0;34m(self)\u001b[0m\n\u001b[1;32m     24\u001b[0m df \u001b[38;5;241m=\u001b[39m pd\u001b[38;5;241m.\u001b[39mDataFrame(df)\n\u001b[1;32m     25\u001b[0m \u001b[38;5;28;01mfor\u001b[39;00m callback \u001b[38;5;129;01min\u001b[39;00m \u001b[38;5;28mself\u001b[39m\u001b[38;5;241m.\u001b[39mcallbacks:\n\u001b[0;32m---> 26\u001b[0m     \u001b[43mcallback\u001b[49m\u001b[43m(\u001b[49m\u001b[43mdf\u001b[49m\u001b[38;5;241;43m=\u001b[39;49m\u001b[43mdf\u001b[49m\u001b[43m)\u001b[49m\n\u001b[1;32m     27\u001b[0m \u001b[38;5;28;01mreturn\u001b[39;00m df\n",
      "Cell \u001b[0;32mIn[7], line 30\u001b[0m, in \u001b[0;36mCustomCallback.callback\u001b[0;34m(self, df, **kwargs)\u001b[0m\n\u001b[1;32m     28\u001b[0m res \u001b[38;5;241m=\u001b[39m {}\n\u001b[1;32m     29\u001b[0m \u001b[38;5;28;01mfor\u001b[39;00m rtg \u001b[38;5;129;01min\u001b[39;00m \u001b[38;5;28mself\u001b[39m\u001b[38;5;241m.\u001b[39mrtgs:\n\u001b[0;32m---> 30\u001b[0m \tres[rtg] \u001b[38;5;241m=\u001b[39m \u001b[43mevaluate_on_env\u001b[49m\u001b[43m(\u001b[49m\n\u001b[1;32m     31\u001b[0m \u001b[43m\t\t\u001b[49m\u001b[43mmodel\u001b[49m\u001b[38;5;241;43m=\u001b[39;49m\u001b[38;5;28;43mself\u001b[39;49m\u001b[38;5;241;43m.\u001b[39;49m\u001b[43mmodel\u001b[49m\u001b[43m,\u001b[49m\n\u001b[1;32m     32\u001b[0m \u001b[43m\t\t\u001b[49m\u001b[43mtraj_dataset\u001b[49m\u001b[38;5;241;43m=\u001b[39;49m\u001b[38;5;28;43mself\u001b[39;49m\u001b[38;5;241;43m.\u001b[39;49m\u001b[43mtraj_dataset\u001b[49m\u001b[43m,\u001b[49m\n\u001b[1;32m     33\u001b[0m \u001b[43m\t\t\u001b[49m\u001b[43mdevice\u001b[49m\u001b[38;5;241;43m=\u001b[39;49m\u001b[38;5;28;43mself\u001b[39;49m\u001b[38;5;241;43m.\u001b[39;49m\u001b[43mdevice\u001b[49m\u001b[43m,\u001b[49m\n\u001b[1;32m     34\u001b[0m \u001b[43m\t\t\u001b[49m\u001b[43mcontext_len\u001b[49m\u001b[38;5;241;43m=\u001b[39;49m\u001b[38;5;28;43mself\u001b[39;49m\u001b[38;5;241;43m.\u001b[39;49m\u001b[43mconfig\u001b[49m\u001b[38;5;241;43m.\u001b[39;49m\u001b[43mcontext_len\u001b[49m\u001b[43m,\u001b[49m\n\u001b[1;32m     35\u001b[0m \u001b[43m\t\t\u001b[49m\u001b[43menv\u001b[49m\u001b[38;5;241;43m=\u001b[39;49m\u001b[38;5;28;43mself\u001b[39;49m\u001b[38;5;241;43m.\u001b[39;49m\u001b[43menv\u001b[49m\u001b[43m,\u001b[49m\n\u001b[1;32m     36\u001b[0m \u001b[43m\t\t\u001b[49m\u001b[43mrtg_target\u001b[49m\u001b[38;5;241;43m=\u001b[39;49m\u001b[43mrtg\u001b[49m\u001b[43m,\u001b[49m\n\u001b[1;32m     37\u001b[0m \u001b[43m\t\t\u001b[49m\u001b[43mnum_eval_ep\u001b[49m\u001b[38;5;241;43m=\u001b[39;49m\u001b[38;5;28;43mself\u001b[39;49m\u001b[38;5;241;43m.\u001b[39;49m\u001b[43mconfig\u001b[49m\u001b[38;5;241;43m.\u001b[39;49m\u001b[43mnum_eval_ep\u001b[49m\n\u001b[1;32m     38\u001b[0m \u001b[43m\t\u001b[49m\u001b[43m)\u001b[49m\n\u001b[1;32m     39\u001b[0m \u001b[38;5;28mself\u001b[39m\u001b[38;5;241m.\u001b[39meval_results\u001b[38;5;241m.\u001b[39mappend(res)\n",
      "File \u001b[0;32m~/Documents/MIT/6.8200/project/experiment_notebooks/../algorithms/sequence_models/evaluate.py:57\u001b[0m, in \u001b[0;36mevaluate_on_env\u001b[0;34m(model, traj_dataset, device, context_len, env, rtg_target, num_eval_ep, max_test_ep_len, render)\u001b[0m\n\u001b[1;32m     54\u001b[0m rewards_to_go[\u001b[38;5;241m0\u001b[39m, t] \u001b[38;5;241m=\u001b[39m running_rtg\n\u001b[1;32m     56\u001b[0m \u001b[38;5;28;01mif\u001b[39;00m t \u001b[38;5;241m<\u001b[39m context_len:\n\u001b[0;32m---> 57\u001b[0m     _, act_preds, _ \u001b[38;5;241m=\u001b[39m \u001b[43mmodel\u001b[49m\u001b[38;5;241;43m.\u001b[39;49m\u001b[43mforward\u001b[49m\u001b[43m(\u001b[49m\u001b[43mtimesteps\u001b[49m\u001b[43m[\u001b[49m\u001b[43m:\u001b[49m\u001b[43m,\u001b[49m\u001b[43m \u001b[49m\u001b[43m:\u001b[49m\u001b[43mcontext_len\u001b[49m\u001b[43m]\u001b[49m\u001b[43m,\u001b[49m\n\u001b[1;32m     58\u001b[0m \u001b[43m                                    \u001b[49m\u001b[43mstates\u001b[49m\u001b[43m[\u001b[49m\u001b[43m:\u001b[49m\u001b[43m,\u001b[49m\u001b[43m \u001b[49m\u001b[43m:\u001b[49m\u001b[43mcontext_len\u001b[49m\u001b[43m]\u001b[49m\u001b[43m,\u001b[49m\n\u001b[1;32m     59\u001b[0m \u001b[43m                                    \u001b[49m\u001b[43mactions\u001b[49m\u001b[43m[\u001b[49m\u001b[43m:\u001b[49m\u001b[43m,\u001b[49m\u001b[43m \u001b[49m\u001b[43m:\u001b[49m\u001b[43mcontext_len\u001b[49m\u001b[43m]\u001b[49m\u001b[43m,\u001b[49m\n\u001b[1;32m     60\u001b[0m \u001b[43m                                    \u001b[49m\u001b[43mrewards_to_go\u001b[49m\u001b[43m[\u001b[49m\u001b[43m:\u001b[49m\u001b[43m,\u001b[49m\u001b[43m \u001b[49m\u001b[43m:\u001b[49m\u001b[43mcontext_len\u001b[49m\u001b[43m]\u001b[49m\u001b[43m)\u001b[49m\n\u001b[1;32m     61\u001b[0m     act \u001b[38;5;241m=\u001b[39m act_preds[\u001b[38;5;241m0\u001b[39m, t]\u001b[38;5;241m.\u001b[39mdetach()\n\u001b[1;32m     62\u001b[0m \u001b[38;5;28;01melse\u001b[39;00m:\n",
      "File \u001b[0;32m~/Documents/MIT/6.8200/project/experiment_notebooks/../s4/dts4.py:59\u001b[0m, in \u001b[0;36mDecisionS4.forward\u001b[0;34m(self, timesteps, states, actions, returns_to_go)\u001b[0m\n\u001b[1;32m     53\u001b[0m returns_embeddings \u001b[38;5;241m=\u001b[39m \u001b[38;5;28mself\u001b[39m\u001b[38;5;241m.\u001b[39membed_rtg(returns_to_go) \u001b[38;5;241m+\u001b[39m time_embeddings\n\u001b[1;32m     55\u001b[0m \u001b[38;5;66;03m# stack rtg, states and actions and reshape sequence as\u001b[39;00m\n\u001b[1;32m     56\u001b[0m \u001b[38;5;66;03m# (r1, s1, a1, r2, s2, a2 ...)\u001b[39;00m\n\u001b[1;32m     57\u001b[0m h \u001b[38;5;241m=\u001b[39m \u001b[43mtorch\u001b[49m\u001b[38;5;241;43m.\u001b[39;49m\u001b[43mstack\u001b[49m\u001b[43m(\u001b[49m\n\u001b[1;32m     58\u001b[0m \u001b[43m    \u001b[49m\u001b[43m(\u001b[49m\u001b[43mreturns_embeddings\u001b[49m\u001b[43m,\u001b[49m\u001b[43m \u001b[49m\u001b[43mstate_embeddings\u001b[49m\u001b[43m,\u001b[49m\u001b[43m \u001b[49m\u001b[43maction_embeddings\u001b[49m\u001b[43m)\u001b[49m\u001b[43m,\u001b[49m\u001b[43m \u001b[49m\u001b[43mdim\u001b[49m\u001b[38;5;241;43m=\u001b[39;49m\u001b[38;5;241;43m1\u001b[39;49m\n\u001b[0;32m---> 59\u001b[0m \u001b[43m\u001b[49m\u001b[43m)\u001b[49m\u001b[38;5;241;43m.\u001b[39;49m\u001b[43mpermute\u001b[49m\u001b[43m(\u001b[49m\u001b[38;5;241;43m0\u001b[39;49m\u001b[43m,\u001b[49m\u001b[43m \u001b[49m\u001b[38;5;241;43m2\u001b[39;49m\u001b[43m,\u001b[49m\u001b[43m \u001b[49m\u001b[38;5;241;43m1\u001b[39;49m\u001b[43m,\u001b[49m\u001b[43m \u001b[49m\u001b[38;5;241;43m3\u001b[39;49m\u001b[43m)\u001b[49m\u001b[38;5;241;43m.\u001b[39;49m\u001b[43mreshape\u001b[49m\u001b[43m(\u001b[49m\u001b[43mB\u001b[49m\u001b[43m,\u001b[49m\u001b[43m \u001b[49m\u001b[38;5;241;43m3\u001b[39;49m\u001b[43m \u001b[49m\u001b[38;5;241;43m*\u001b[39;49m\u001b[43m \u001b[49m\u001b[43mT\u001b[49m\u001b[43m,\u001b[49m\u001b[43m \u001b[49m\u001b[38;5;28;43mself\u001b[39;49m\u001b[38;5;241;43m.\u001b[39;49m\u001b[43mh_dim\u001b[49m\u001b[43m)\u001b[49m\n\u001b[1;32m     61\u001b[0m h \u001b[38;5;241m=\u001b[39m \u001b[38;5;28mself\u001b[39m\u001b[38;5;241m.\u001b[39membed_ln(h)\n\u001b[1;32m     63\u001b[0m \u001b[38;5;66;03m# transformer and prediction\u001b[39;00m\n\u001b[1;32m     64\u001b[0m \u001b[38;5;66;03m# print(h.shape)\u001b[39;00m\n",
      "\u001b[0;31mKeyboardInterrupt\u001b[0m: "
     ]
    }
   ],
   "source": [
    "report = trainer.train()"
   ]
  },
  {
   "cell_type": "code",
   "execution_count": 11,
   "id": "5cc6e31b7b05c3e0",
   "metadata": {
    "ExecuteTime": {
     "end_time": "2024-05-08T12:50:55.403492Z",
     "start_time": "2024-05-08T12:50:55.193995Z"
    }
   },
   "outputs": [
    {
     "data": {
      "image/png": "[encoded data removed]",
      "text/plain": [
       "<Figure size 640x480 with 1 Axes>"
      ]
     },
     "metadata": {},
     "output_type": "display_data"
    },
    {
     "data": {
      "image/png": "[encoded data removed]",
      "text/plain": [
       "<Figure size 640x480 with 1 Axes>"
      ]
     },
     "metadata": {},
     "output_type": "display_data"
    }
   ],
   "source": [
    "callback.plot_eval_results()"
   ]
  },
  {
   "cell_type": "code",
   "execution_count": 12,
   "id": "1921827c44628aa3",
   "metadata": {
    "ExecuteTime": {
     "end_time": "2024-05-08T12:59:18.715207Z",
     "start_time": "2024-05-08T12:59:18.596576Z"
    }
   },
   "outputs": [
    {
     "ename": "NameError",
     "evalue": "name 'report' is not defined",
     "output_type": "error",
     "traceback": [
      "\u001b[0;31m---------------------------------------------------------------------------\u001b[0m",
      "\u001b[0;31mNameError\u001b[0m                                 Traceback (most recent call last)",
      "Cell \u001b[0;32mIn[12], line 1\u001b[0m\n\u001b[0;32m----> 1\u001b[0m \u001b[43mreport\u001b[49m\u001b[38;5;241m.\u001b[39msort_values(by\u001b[38;5;241m=\u001b[39m[\u001b[38;5;124m'\u001b[39m\u001b[38;5;124mtrain/iteration\u001b[39m\u001b[38;5;124m'\u001b[39m, \u001b[38;5;124m'\u001b[39m\u001b[38;5;124mtrain/update_idx\u001b[39m\u001b[38;5;124m'\u001b[39m])\u001b[38;5;241m.\u001b[39mreset_index()[\u001b[38;5;124m'\u001b[39m\u001b[38;5;124mtrain/loss\u001b[39m\u001b[38;5;124m'\u001b[39m]\u001b[38;5;241m.\u001b[39mplot()\n",
      "\u001b[0;31mNameError\u001b[0m: name 'report' is not defined"
     ]
    }
   ],
   "source": [
    "report.sort_values(by=['train/iteration', 'train/update_idx']).reset_index()['train/loss'].plot()"
   ]
  },
  {
   "cell_type": "code",
   "execution_count": null,
   "id": "08885aa4",
   "metadata": {},
   "outputs": [],
   "source": []
  }
 ],
 "metadata": {
  "kernelspec": {
   "display_name": "Python 3",
   "language": "python",
   "name": "python3"
  },
  "language_info": {
   "codemirror_mode": {
    "name": "ipython",
    "version": 3
   },
   "file_extension": ".py",
   "mimetype": "text/x-python",
   "name": "python",
   "nbconvert_exporter": "python",
   "pygments_lexer": "ipython3",
   "version": "3.12.0"
  }
 },
 "nbformat": 4,
 "nbformat_minor": 5
}
