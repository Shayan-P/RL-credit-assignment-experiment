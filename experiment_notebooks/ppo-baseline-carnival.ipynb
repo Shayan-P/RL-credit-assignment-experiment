{
 "cells": [
  {
   "cell_type": "code",
   "id": "initial_id",
   "metadata": {
    "collapsed": true,
    "ExecuteTime": {
     "end_time": "2024-05-02T20:54:15.550393Z",
     "start_time": "2024-05-02T20:54:15.483886Z"
    }
   },
   "source": [
    "%load_ext autoreload\n",
    "%autoreload 2\n",
    "\n",
    "import numpy as np\n",
    "import matplotlib.pyplot as plt\n",
    "import sys\n",
    "import gymnasium as gym \n",
    "\n",
    "sys.path.append('..')\n",
    "\n",
    "from stable_baselines3 import PPO\n",
    "from stable_baselines3.common.callbacks import BaseCallback\n",
    "from stable_baselines3.common.evaluation import evaluate_policy\n",
    "\n",
    "from collections import deque\n",
    "\n",
    "from tqdm.notebook import tqdm\n",
    "\n",
    "from utils.logging import EvalLogCallback\n",
    "from utils.runner import run_for_episode"
   ],
   "outputs": [
    {
     "name": "stdout",
     "output_type": "stream",
     "text": [
      "The autoreload extension is already loaded. To reload it, use:\n",
      "  %reload_ext autoreload\n"
     ]
    }
   ],
   "execution_count": 4
  },
  {
   "metadata": {
    "jupyter": {
     "is_executing": true
    },
    "ExecuteTime": {
     "start_time": "2024-05-02T20:56:16.661402Z"
    }
   },
   "cell_type": "code",
   "source": [
    "env = gym.make('ALE/Carnival-v5')\n",
    "\n",
    "agent = PPO('CnnPolicy', env)\n",
    "callback = EvalLogCallback(eval_every=1, smooth_window=2, model=agent, eval_env=env)\n",
    "agent.learn(total_timesteps=1000000, progress_bar=True, callback=callback)\n",
    "callback.plot_rewards()\n",
    "\n",
    "# why is the number of rollouts much smaller than the number of iterations?\n",
    "# it's annoying but it doesn't really matter as we will be mainly developing our own algorithms"
   ],
   "id": "f1b8ca4507af7b74",
   "outputs": [
    {
     "data": {
      "text/plain": [
       "0it [00:00, ?it/s]"
      ],
      "application/vnd.jupyter.widget-view+json": {
       "version_major": 2,
       "version_minor": 0,
       "model_id": "ae01a7c2e2a046c5a17575b501fe9802"
      }
     },
     "metadata": {},
     "output_type": "display_data"
    },
    {
     "data": {
      "text/plain": [
       "Output()"
      ],
      "application/vnd.jupyter.widget-view+json": {
       "version_major": 2,
       "version_minor": 0,
       "model_id": "268ed2dcd69d4847bd072bba0b820caa"
      }
     },
     "metadata": {},
     "output_type": "display_data"
    }
   ],
   "execution_count": null
  },
  {
   "metadata": {
    "jupyter": {
     "is_executing": true
    }
   },
   "cell_type": "code",
   "source": [
    "# policy = RandomPolicy(env)\n",
    "env = gym.make('ALE/Carnival-v5', render_mode='human')\n",
    "run_for_episode(env=env, policy=agent, num_episodes=1)\n"
   ],
   "id": "83380f901fb4578a",
   "outputs": [],
   "execution_count": null
  },
  {
   "metadata": {},
   "cell_type": "code",
   "outputs": [],
   "execution_count": null,
   "source": "",
   "id": "19bf26571799b453"
  }
 ],
 "metadata": {
  "kernelspec": {
   "display_name": "Python 3",
   "language": "python",
   "name": "python3"
  },
  "language_info": {
   "codemirror_mode": {
    "name": "ipython",
    "version": 2
   },
   "file_extension": ".py",
   "mimetype": "text/x-python",
   "name": "python",
   "nbconvert_exporter": "python",
   "pygments_lexer": "ipython2",
   "version": "2.7.6"
  }
 },
 "nbformat": 4,
 "nbformat_minor": 5
}
