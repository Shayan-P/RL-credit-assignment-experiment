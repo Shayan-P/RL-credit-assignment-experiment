{
 "cells": [
  {
   "cell_type": "code",
   "id": "initial_id",
   "metadata": {
    "collapsed": true,
    "ExecuteTime": {
     "end_time": "2024-05-02T15:25:13.684795Z",
     "start_time": "2024-05-02T15:25:11.621350Z"
    }
   },
   "source": [
    "import envs.door_key\n",
    "%load_ext autoreload\n",
    "%autoreload 2\n",
    "\n",
    "import numpy as np\n",
    "import matplotlib.pyplot as plt\n",
    "import sys\n",
    "\n",
    "sys.path.append('..')\n",
    "\n",
    "from envs.random_walk import RandomWalkEnv\n",
    "from stable_baselines3 import PPO\n",
    "from stable_baselines3.common.callbacks import BaseCallback\n",
    "from stable_baselines3.common.evaluation import evaluate_policy\n",
    "\n",
    "from collections import deque\n",
    "\n",
    "from tqdm.notebook import tqdm\n",
    "\n",
    "from utils.logging import EvalLogCallback\n",
    "\n",
    "from envs.door_key import DoorKeyEnv, DoorKeyEnvSmall\n",
    "\n",
    "from utils.runner import run_for_episode, run_for_steps\n",
    "from algorithms.random_policy import RandomPolicy\n",
    "from stable_baselines3.common.env_util import make_vec_env\n",
    "from minigrid.wrappers import FlatObsWrapper, ImgObsWrapper"
   ],
   "outputs": [
    {
     "name": "stdout",
     "output_type": "stream",
     "text": [
      "pygame 2.5.2 (SDL 2.28.2, Python 3.10.14)\n",
      "Hello from the pygame community. https://www.pygame.org/contribute.html\n"
     ]
    }
   ],
   "execution_count": 3
  },
  {
   "metadata": {
    "ExecuteTime": {
     "end_time": "2024-05-02T15:28:15.601111Z",
     "start_time": "2024-05-02T15:26:17.634528Z"
    }
   },
   "cell_type": "code",
   "source": [
    "# https://minigrid.farama.org/api/wrapper/\n",
    "# ImgObsWrapper removes mission from observationSpace\n",
    "\n",
    "env = ImgObsWrapper(DoorKeyEnvSmall())\n",
    "# eval_env = ImgObsWrapper(DoorKeyEnvSmall(render_mode='human'))\n",
    "eval_env = env\n",
    "\n",
    "# todo later we can vectorize the operations to make it faster\n",
    "agent = PPO('MlpPolicy', env)\n",
    "callback = EvalLogCallback(eval_every=1, smooth_window=2, model=agent, eval_env=eval_env)\n",
    "agent.learn(total_timesteps=100000, progress_bar=True, callback=callback)\n",
    "callback.plot_rewards()"
   ],
   "id": "251e192ea9ff7dc0",
   "outputs": [
    {
     "data": {
      "text/plain": [
       "0it [00:00, ?it/s]"
      ],
      "application/vnd.jupyter.widget-view+json": {
       "version_major": 2,
       "version_minor": 0,
       "model_id": "5ce1a99adfc549fa841399fff50b46d1"
      }
     },
     "metadata": {},
     "output_type": "display_data"
    },
    {
     "data": {
      "text/plain": [
       "Output()"
      ],
      "application/vnd.jupyter.widget-view+json": {
       "version_major": 2,
       "version_minor": 0,
       "model_id": "0eb55070f72548588116d6de76cbb519"
      }
     },
     "metadata": {},
     "output_type": "display_data"
    },
    {
     "data": {
      "text/plain": [],
      "text/html": [
       "<pre style=\"white-space:pre;overflow-x:auto;line-height:normal;font-family:Menlo,'DejaVu Sans Mono',consolas,'Courier New',monospace\"></pre>\n"
      ]
     },
     "metadata": {},
     "output_type": "display_data"
    },
    {
     "data": {
      "text/plain": [
       "\n"
      ],
      "text/html": [
       "<pre style=\"white-space:pre;overflow-x:auto;line-height:normal;font-family:Menlo,'DejaVu Sans Mono',consolas,'Courier New',monospace\">\n",
       "</pre>\n"
      ]
     },
     "metadata": {},
     "output_type": "display_data"
    },
    {
     "data": {
      "text/plain": [
       "<Figure size 640x480 with 1 Axes>"
      ],
      "image/png": "[encoded data removed]"
     },
     "metadata": {},
     "output_type": "display_data"
    }
   ],
   "execution_count": 5
  },
  {
   "metadata": {
    "ExecuteTime": {
     "end_time": "2024-05-02T15:42:18.170249Z",
     "start_time": "2024-05-02T15:42:12.959287Z"
    }
   },
   "cell_type": "code",
   "source": [
    "eval_env = ImgObsWrapper(DoorKeyEnvSmall(render_mode='human'))\n",
    "\n",
    "# policy = RandomPolicy(env)\n",
    "policy = agent\n",
    "run_for_episode(env=eval_env, policy=policy)\n",
    "eval_env.close()"
   ],
   "id": "fd4d1494611be7ce",
   "outputs": [],
   "execution_count": 10
  }
 ],
 "metadata": {
  "kernelspec": {
   "display_name": "Python 3",
   "language": "python",
   "name": "python3"
  },
  "language_info": {
   "codemirror_mode": {
    "name": "ipython",
    "version": 2
   },
   "file_extension": ".py",
   "mimetype": "text/x-python",
   "name": "python",
   "nbconvert_exporter": "python",
   "pygments_lexer": "ipython2",
   "version": "2.7.6"
  }
 },
 "nbformat": 4,
 "nbformat_minor": 5
}
