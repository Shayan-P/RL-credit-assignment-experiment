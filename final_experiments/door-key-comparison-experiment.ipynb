{
 "cells": [
  {
   "cell_type": "code",
   "execution_count": 41,
   "id": "initial_id",
   "metadata": {
    "ExecuteTime": {
     "end_time": "2024-05-12T12:01:43.790645Z",
     "start_time": "2024-05-12T12:01:42.848640Z"
    }
   },
   "outputs": [
    {
     "name": "stdout",
     "output_type": "stream",
     "text": [
      "The autoreload extension is already loaded. To reload it, use:\n",
      "  %reload_ext autoreload\n",
      "device is  cuda\n"
     ]
    }
   ],
   "source": [
    "import numpy as np\n",
    "%load_ext autoreload\n",
    "%autoreload 2\n",
    "\n",
    "import torch\n",
    "import sys\n",
    "\n",
    "sys.path.append('..')\n",
    "\n",
    "from algorithms.sequence_models.config import TrainConfig\n",
    "\n",
    "device = torch.device('cuda' if torch.cuda.is_available() else 'cpu')\n",
    "print(\"device is \", device)"
   ]
  },
  {
   "cell_type": "code",
   "execution_count": 42,
   "id": "746a64e1511b0dae",
   "metadata": {
    "ExecuteTime": {
     "end_time": "2024-05-12T12:10:23.663447Z",
     "start_time": "2024-05-12T12:01:59.749860Z"
    }
   },
   "outputs": [
    {
     "name": "stderr",
     "output_type": "stream",
     "text": [
      "/home/shayan/miniconda3/envs/rl-explore/lib/python3.10/site-packages/gymnasium/core.py:311: UserWarning: \u001B[33mWARN: env.max_steps to get variables from other wrappers is deprecated and will be removed in v1.0, to get this variable you can do `env.unwrapped.max_steps` for environment variables or `env.get_wrapper_attr('max_steps')` that will search the reminding wrappers.\u001B[0m\n",
      "  logger.warn(\n"
     ]
    },
    {
     "name": "stdout",
     "output_type": "stream",
     "text": [
      "s4 : number of parameters 630811\n",
      "dt : number of parameters 1159579\n"
     ]
    }
   ],
   "source": [
    "from minigrid.wrappers import ImgObsWrapper\n",
    "from algorithms.sequence_models.decision_S4.dts4 import DecisionS4\n",
    "from data.door_key_dataset import DoorKeyDataset\n",
    "from comparison_experiment import AutomatedComparisonExperiment\n",
    "import gymnasium as gym\n",
    "\n",
    "\n",
    "inner_env = gym.make('MiniGrid-DoorKey-5x5-v0')\n",
    "inner_env_human = gym.make('MiniGrid-DoorKey-5x5-v0', render_mode='human')\n",
    "env = ImgObsWrapper(inner_env)\n",
    "env_human = ImgObsWrapper(inner_env_human)\n",
    "\n",
    "\n",
    "max_eval_ep_len = env.max_steps # todo change for other envs\n",
    "context_len = max_eval_ep_len + 2  # todo change for other envs (DECREASE TO IMPROVE SPEED)\n",
    "\n",
    "config = TrainConfig(max_eval_ep_len=max_eval_ep_len, context_len=max_eval_ep_len)\n",
    "\n",
    "n_trajectories = 20_000 # todo is this enough / too much?\n",
    "experiment_name = f\"experiment_door_key_dataset_size={n_trajectories}\"\n",
    "if DoorKeyDataset.exists(experiment_name):\n",
    "    traj_dataset = DoorKeyDataset.load(experiment_name)\n",
    "else:\n",
    "    reward_scale = 1 # todo change for other envs\n",
    "    traj_dataset = DoorKeyDataset(env, n_trajectories=n_trajectories, reward_scale=reward_scale, prob_keeping_nonzero=0.01)\n",
    "    traj_dataset.save(experiment_name)\n",
    "\n",
    "comparison_experiment = AutomatedComparisonExperiment(\n",
    "    env=env,\n",
    "    traj_dataset=traj_dataset,\n",
    "    config=config,\n",
    "    device=device,\n",
    "    rtgs_for_train_eval=[0.3, 0.5, 0.7, 1], # todo change for other envs\n",
    "    rtgs_final_test=np.linspace(0, 1.1, 10, endpoint=True), # todo change for other envs\n",
    "    env_name=f\"MiniGrid-DoorKey-5x5-v0\", # todo change for other envs\n",
    "    experiment_name=\"automated_check_after_debug\"\n",
    ")"
   ]
  },
  {
   "cell_type": "code",
   "execution_count": 43,
   "id": "c82c92fb-30b8-442c-9868-a5390d3126bd",
   "metadata": {},
   "outputs": [],
   "source": [
    "epoch = 100"
   ]
  },
  {
   "cell_type": "code",
   "execution_count": null,
   "id": "377f7641c0aef462",
   "metadata": {
    "ExecuteTime": {
     "end_time": "2024-05-12T12:10:24.923942Z",
     "start_time": "2024-05-12T12:10:23.664768Z"
    }
   },
   "outputs": [
    {
     "name": "stdout",
     "output_type": "stream",
     "text": [
      "distribution of rewards in the dataset\n",
      "training started\n"
     ]
    },
    {
     "data": {
      "application/vnd.jupyter.widget-view+json": {
       "model_id": "47552aca597c444fa0f6c7d6075ac7d0",
       "version_major": 2,
       "version_minor": 0
      },
      "text/plain": [
       "  0%|          | 0/100 [00:00<?, ?it/s]"
      ]
     },
     "metadata": {},
     "output_type": "display_data"
    },
    {
     "name": "stdout",
     "output_type": "stream",
     "text": [
      "============================================================\n",
      "time elapsed: 0:00:04\n",
      "num of updates: 100\n",
      "loss: 0.18059\n",
      "lr 0.00001\n",
      "grad_norm 0.15679\n"
     ]
    }
   ],
   "source": [
    "comparison_experiment.run_and_report(comparison_experiment.s4_experiment, epoch)"
   ]
  },
  {
   "cell_type": "code",
   "execution_count": null,
   "id": "c847859f92de48de",
   "metadata": {
    "scrolled": true
   },
   "outputs": [],
   "source": [
    "comparison_experiment.run_and_report(comparison_experiment.dt_experiment, epoch)"
   ]
  },
  {
   "cell_type": "code",
   "execution_count": null,
   "id": "ee8dd112b218668a",
   "metadata": {},
   "outputs": [],
   "source": [
    "# see and record\n",
    "from algorithms.evaluate_policy import evaluate_policy\n",
    "\n",
    "policy = comparison_experiment.make_dt_policy(rtg=1)\n",
    "evaluate_policy(policy, env_human, num_eval_ep=20)"
   ]
  },
  {
   "cell_type": "code",
   "execution_count": null,
   "id": "d2ab3c0fd9c56b09",
   "metadata": {},
   "outputs": [],
   "source": [
    "# see and record\n",
    "from algorithms.evaluate_policy import evaluate_policy\n",
    "\n",
    "policy = comparison_experiment.make_s4_policy(rtg=1)\n",
    "evaluate_policy(policy, env_human, num_eval_ep=1)"
   ]
  }
 ],
 "metadata": {
  "kernelspec": {
   "display_name": "Python 3 (ipykernel)",
   "language": "python",
   "name": "python3"
  },
  "language_info": {
   "codemirror_mode": {
    "name": "ipython",
    "version": 3
   },
   "file_extension": ".py",
   "mimetype": "text/x-python",
   "name": "python",
   "nbconvert_exporter": "python",
   "pygments_lexer": "ipython3",
   "version": "3.10.14"
  }
 },
 "nbformat": 4,
 "nbformat_minor": 5
}
