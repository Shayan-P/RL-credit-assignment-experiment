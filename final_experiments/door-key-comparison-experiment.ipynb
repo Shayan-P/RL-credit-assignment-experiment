{
 "cells": [
  {
   "cell_type": "code",
   "id": "initial_id",
   "metadata": {
    "collapsed": true,
    "ExecuteTime": {
     "end_time": "2024-05-12T10:29:08.505545Z",
     "start_time": "2024-05-12T10:29:06.387177Z"
    }
   },
   "source": [
    "import numpy as np\n",
    "%load_ext autoreload\n",
    "%autoreload 2\n",
    "\n",
    "import torch\n",
    "import sys\n",
    "\n",
    "sys.path.append('..')\n",
    "\n",
    "from algorithms.sequence_models.config import TrainConfig\n",
    "\n",
    "device = torch.device('cuda' if torch.cuda.is_available() else 'cpu')\n",
    "print(\"device is \", device)"
   ],
   "outputs": [
    {
     "name": "stdout",
     "output_type": "stream",
     "text": [
      "device is  cuda\n"
     ]
    }
   ],
   "execution_count": 1
  },
  {
   "metadata": {
    "ExecuteTime": {
     "end_time": "2024-05-12T10:33:00.668565Z",
     "start_time": "2024-05-12T10:33:00.590076Z"
    }
   },
   "cell_type": "code",
   "source": [
    "from minigrid.wrappers import ImgObsWrapper\n",
    "from algorithms.sequence_models.decision_S4.dts4 import DecisionS4\n",
    "from data.door_key_dataset import DoorKeyDataset\n",
    "from comparison_experiment import AutomatedComparisonExperiment\n",
    "import gymnasium as gym\n",
    "\n",
    "\n",
    "inner_env = gym.make('MiniGrid-DoorKey-5x5-v0')\n",
    "inner_env_human = gym.make('MiniGrid-DoorKey-5x5-v0', render_mode='human')\n",
    "env = ImgObsWrapper(inner_env)\n",
    "env_human = ImgObsWrapper(inner_env_human)\n",
    "\n",
    "\n",
    "max_eval_ep_len = env.max_steps # todo change for other envs\n",
    "context_len = max_eval_ep_len + 2  # todo change for other envs (DECREASE TO IMPROVE SPEED)\n",
    "\n",
    "config = TrainConfig(max_eval_ep_len=max_eval_ep_len, context_len=max_eval_ep_len)\n",
    "\n",
    "n_trajectories = 300 # todo is this enough / too much?\n",
    "experiment_name = f\"experiment_door_key_dataset_size={n_trajectories}\"\n",
    "if DoorKeyDataset.exists(experiment_name):\n",
    "    traj_dataset = DoorKeyDataset.load(experiment_name)\n",
    "else:\n",
    "    reward_scale = 1 # todo change for other envs\n",
    "    traj_dataset = DoorKeyDataset(env, n_trajectories=n_trajectories, reward_scale=reward_scale, prob_keeping_nonzero=0.01)\n",
    "    traj_dataset.save(experiment_name)\n",
    "\n",
    "comparison_experiment = AutomatedComparisonExperiment(\n",
    "    env=env,\n",
    "    traj_dataset=traj_dataset,\n",
    "    config=config,\n",
    "    device=device,\n",
    "    rtgs_for_train_eval=[0.3, 0.5, 0.7, 1], # todo change for other envs\n",
    "    rtgs_final_test=np.linspace(0, 1.1, 10, endpoint=True), # todo change for other envs\n",
    "    env_name=f\"MiniGrid-DoorKey-5x5-v0\", # todo change for other envs\n",
    "    experiment_name=\"automated_comparison\"\n",
    ")"
   ],
   "id": "746a64e1511b0dae",
   "outputs": [
    {
     "name": "stdout",
     "output_type": "stream",
     "text": [
      "number of parameters 630811\n",
      "number of parameters 1159579\n"
     ]
    },
    {
     "name": "stderr",
     "output_type": "stream",
     "text": [
      "/home/shayan/miniconda3/envs/rl-explore/lib/python3.10/site-packages/gymnasium/core.py:311: UserWarning: \u001B[33mWARN: env.max_steps to get variables from other wrappers is deprecated and will be removed in v1.0, to get this variable you can do `env.unwrapped.max_steps` for environment variables or `env.get_wrapper_attr('max_steps')` that will search the reminding wrappers.\u001B[0m\n",
      "  logger.warn(\n"
     ]
    }
   ],
   "execution_count": 4
  },
  {
   "metadata": {
    "jupyter": {
     "is_executing": true
    },
    "ExecuteTime": {
     "start_time": "2024-05-12T10:33:21.547374Z"
    }
   },
   "cell_type": "code",
   "source": "comparison_experiment.run_and_report(comparison_experiment.s4_experiment, 200)",
   "id": "377f7641c0aef462",
   "outputs": [
    {
     "name": "stdout",
     "output_type": "stream",
     "text": [
      "distribution of rewards in the dataset\n",
      "training started\n"
     ]
    },
    {
     "data": {
      "text/plain": [
       "  0%|          | 0/200 [00:00<?, ?it/s]"
      ],
      "application/vnd.jupyter.widget-view+json": {
       "version_major": 2,
       "version_minor": 0,
       "model_id": "d5bfce1d65664cd9b826820e6e9b161d"
      }
     },
     "metadata": {},
     "output_type": "display_data"
    },
    {
     "name": "stdout",
     "output_type": "stream",
     "text": [
      "============================================================\n",
      "time elapsed: 0:00:05\n",
      "num of updates: 100\n",
      "loss: 0.32132\n",
      "lr 0.00001\n",
      "grad_norm 0.19317\n",
      "============================================================\n",
      "time elapsed: 0:00:10\n",
      "num of updates: 200\n",
      "loss: 0.22560\n",
      "lr 0.00002\n",
      "grad_norm 0.09414\n",
      "============================================================\n",
      "time elapsed: 0:00:14\n",
      "num of updates: 300\n",
      "loss: 0.14831\n",
      "lr 0.00003\n",
      "grad_norm 0.02808\n",
      "============================================================\n",
      "time elapsed: 0:00:19\n",
      "num of updates: 400\n",
      "loss: 0.12943\n",
      "lr 0.00004\n",
      "grad_norm 0.02066\n",
      "============================================================\n",
      "time elapsed: 0:00:24\n",
      "num of updates: 500\n",
      "loss: 0.12514\n",
      "lr 0.00005\n",
      "grad_norm 0.01875\n",
      "============================================================\n",
      "time elapsed: 0:00:28\n",
      "num of updates: 600\n",
      "loss: 0.12221\n",
      "lr 0.00006\n",
      "grad_norm 0.01726\n",
      "============================================================\n",
      "time elapsed: 0:00:33\n",
      "num of updates: 700\n",
      "loss: 0.11982\n",
      "lr 0.00007\n",
      "grad_norm 0.01818\n",
      "============================================================\n",
      "time elapsed: 0:00:37\n",
      "num of updates: 800\n",
      "loss: 0.11727\n",
      "lr 0.00008\n",
      "grad_norm 0.01389\n",
      "============================================================\n",
      "time elapsed: 0:00:42\n",
      "num of updates: 900\n",
      "loss: 0.11355\n",
      "lr 0.00009\n",
      "grad_norm 0.01033\n"
     ]
    }
   ],
   "execution_count": null
  },
  {
   "metadata": {
    "jupyter": {
     "is_executing": true
    }
   },
   "cell_type": "code",
   "source": "comparison_experiment.run_and_report(comparison_experiment.dt_experiment, 200)",
   "id": "c847859f92de48de",
   "outputs": [],
   "execution_count": null
  }
 ],
 "metadata": {
  "kernelspec": {
   "display_name": "Python 3",
   "language": "python",
   "name": "python3"
  },
  "language_info": {
   "codemirror_mode": {
    "name": "ipython",
    "version": 2
   },
   "file_extension": ".py",
   "mimetype": "text/x-python",
   "name": "python",
   "nbconvert_exporter": "python",
   "pygments_lexer": "ipython2",
   "version": "2.7.6"
  }
 },
 "nbformat": 4,
 "nbformat_minor": 5
}
