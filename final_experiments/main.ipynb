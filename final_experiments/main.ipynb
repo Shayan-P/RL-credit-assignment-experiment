{
 "cells": [
  {
   "cell_type": "code",
   "id": "initial_id",
   "metadata": {
    "collapsed": true,
    "ExecuteTime": {
     "end_time": "2024-05-12T03:12:05.654546Z",
     "start_time": "2024-05-12T03:12:04.515606Z"
    }
   },
   "source": [
    "%load_ext autoreload\n",
    "%autoreload 2\n",
    "\n",
    "import matplotlib.pyplot as plt\n",
    "import numpy as np\n",
    "import torch\n",
    "import torch.nn as nn\n",
    "\n",
    "import sys\n",
    "\n",
    "sys.path.append('..')\n",
    "\n",
    "from algorithms.random_policy import RandomPolicy\n",
    "from algorithms.sequence_models.decision_sequence_policy import DTPolicy\n",
    "from algorithms.sequence_models.decision_transformer.decision_transformer import DecisionTransformer\n",
    "from algorithms.sequence_models.evaluate import evaluate_on_env\n",
    "from data.door_key_dataset import DoorKeyDataset\n",
    "from data.random_walk_dataset import RandomWalkDataset\n",
    "from envs.door_key import DoorKeyEnv, DoorKeyEnvSmall\n",
    "from data.trajectory import LimitedContextWrapper\n",
    "from algorithms.sequence_models.config import TrainConfig\n",
    "from algorithms.sequence_models.decision_transformer.trainer import TrainerDT\n",
    "from envs.random_walk import RandomWalkEnv\n",
    "from experiment import Experiment\n",
    "import gymnasium as gym\n",
    "from functools import partial\n",
    "\n",
    "device = torch.device('cuda' if torch.cuda.is_available() else 'cpu')\n",
    "print(\"device is \", device)"
   ],
   "execution_count": 3,
   "outputs": []
  },
  {
   "metadata": {},
   "cell_type": "markdown",
   "source": "# Random Walk Env",
   "id": "ce46cada79886ba"
  },
  {
   "metadata": {},
   "cell_type": "markdown",
   "source": "# Door Key Env",
   "id": "f2e2b8883ca87b05"
  },
  {
   "metadata": {
    "ExecuteTime": {
     "end_time": "2024-05-12T02:30:47.314798Z",
     "start_time": "2024-05-12T02:30:44.400076Z"
    }
   },
   "cell_type": "code",
   "source": [
    "from minigrid.wrappers import ImgObsWrapper\n",
    "\n",
    "inner_env = gym.make('MiniGrid-DoorKey-5x5-v0')\n",
    "inner_env_human = gym.make('MiniGrid-DoorKey-5x5-v0', render_mode='human')\n",
    "env = ImgObsWrapper(inner_env)\n",
    "env_human = ImgObsWrapper(inner_env_human)\n",
    "\n",
    "\n",
    "config = TrainConfig(max_eval_ep_len=env.max_steps, context_len=32)\n",
    "\n",
    "# todo save the dataset for the experiment\n",
    "traj_dataset = DoorKeyDataset(env, n_trajectories=100, reward_scale=20)\n",
    "\n",
    "model = DecisionTransformer(\n",
    "    state_dim=traj_dataset.state_dim(),\n",
    "    act_dim=traj_dataset.action_dim(),\n",
    "    n_blocks=config.n_blocks,\n",
    "    h_dim=config.embed_dim,\n",
    "    context_len=config.context_len,\n",
    "    n_heads=config.n_heads,\n",
    "    drop_p=config.dropout_p,\n",
    ").to(device)\n",
    "\n",
    "DoorKeyDTPolicy = partial(DTPolicy, model=model, traj_dataset=traj_dataset, device=device, max_test_ep_len=config.max_eval_ep_len, context_length=config.context_len)\n",
    "\n",
    "experiment = Experiment(\n",
    "    model_name='dt',\n",
    "    model=model,\n",
    "    env_name='MiniGrid-DoorKey-5x5-v0',\n",
    "    env=env,\n",
    "    experiment_name='starter',\n",
    "    traj_dataset=traj_dataset,\n",
    "    dataset_name=f'size={len(traj_dataset)}',\n",
    "    config=config,\n",
    "    device=device,\n",
    "    eval_policies_and_names=[\n",
    "        (DoorKeyDTPolicy(rtg=rtg), f'dt,rtg={rtg}')\n",
    "        for rtg in np.linspace(0, 1.5, 10)\n",
    "    ]\n",
    ")"
   ],
   "id": "d63d17776d90dfbe",
   "execution_count": 22,
   "outputs": []
  },
  {
   "metadata": {
    "ExecuteTime": {
     "end_time": "2024-05-12T02:30:58.926387Z",
     "start_time": "2024-05-12T02:30:49.193612Z"
    }
   },
   "cell_type": "code",
   "source": "report = experiment.train_for(10)",
   "id": "35aad5a9ad7e6c6",
   "execution_count": 23,
   "outputs": []
  },
  {
   "metadata": {
    "ExecuteTime": {
     "end_time": "2024-05-12T02:31:02.903583Z",
     "start_time": "2024-05-12T02:31:02.823617Z"
    }
   },
   "cell_type": "code",
   "source": "experiment.plot_loss(report)",
   "id": "8afcbfc1b6a821ed",
   "execution_count": 24,
   "outputs": []
  },
  {
   "metadata": {
    "ExecuteTime": {
     "end_time": "2024-05-12T02:18:26.950211Z",
     "start_time": "2024-05-12T02:13:04.821201Z"
    }
   },
   "cell_type": "code",
   "source": "experiment.train_for(100)",
   "id": "d2f7c5f4ac22d2ea",
   "execution_count": 11,
   "outputs": []
  },
  {
   "metadata": {},
   "cell_type": "markdown",
   "source": "### how to evaluate policy?",
   "id": "58f0e098706b02b2"
  },
  {
   "metadata": {
    "ExecuteTime": {
     "end_time": "2024-05-12T02:31:15.503535Z",
     "start_time": "2024-05-12T02:31:13.114725Z"
    }
   },
   "cell_type": "code",
   "source": [
    "from algorithms.evaluate_policy import evaluate_policy\n",
    "\n",
    "DoorKeyDTPolicy = partial(DTPolicy, model=model, traj_dataset=traj_dataset, device=device, max_test_ep_len=config.max_eval_ep_len, context_length=config.context_len)\n",
    "\n",
    "# one way: use DTPolicy and evaluate_policy\n",
    "policy = DoorKeyDTPolicy(rtg=1)\n",
    "evaluate_policy(policy, env, num_eval_ep=config.num_eval_ep, max_test_ep_len=config.max_eval_ep_len)\n"
   ],
   "id": "c627ffd6ac2c7bc7",
   "execution_count": 25,
   "outputs": []
  },
  {
   "metadata": {
    "ExecuteTime": {
     "end_time": "2024-05-12T02:31:21.112381Z",
     "start_time": "2024-05-12T02:31:20.704327Z"
    }
   },
   "cell_type": "code",
   "source": [
    "# or manually evaluate!\n",
    "\n",
    "obs, _ = env.reset()\n",
    "policy.reset()  # important\n",
    "done = False\n",
    "\n",
    "while not done:\n",
    "    action = policy.predict(obs)\n",
    "    obs, reward, terminated, truncated, _ = env.step(action)\n",
    "    done = terminated or truncated\n",
    "    policy.add_to_history(obs, action, reward, done) # important\n",
    "    print(obs, reward, action)"
   ],
   "id": "f99c8f768e1fb7b6",
   "execution_count": 26,
   "outputs": []
  }
 ],
 "metadata": {
  "kernelspec": {
   "display_name": "Python 3",
   "language": "python",
   "name": "python3"
  },
  "language_info": {
   "codemirror_mode": {
    "name": "ipython",
    "version": 2
   },
   "file_extension": ".py",
   "mimetype": "text/x-python",
   "name": "python",
   "nbconvert_exporter": "python",
   "pygments_lexer": "ipython2",
   "version": "2.7.6"
  }
 },
 "nbformat": 4,
 "nbformat_minor": 5
}
