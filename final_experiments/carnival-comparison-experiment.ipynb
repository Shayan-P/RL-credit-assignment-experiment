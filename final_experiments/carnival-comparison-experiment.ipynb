{
 "cells": [
  {
   "cell_type": "code",
   "id": "initial_id",
   "metadata": {
    "collapsed": true,
    "ExecuteTime": {
     "end_time": "2024-05-12T05:01:42.537423Z",
     "start_time": "2024-05-12T05:01:40.763985Z"
    }
   },
   "source": [
    "%load_ext autoreload\n",
    "%autoreload 2\n",
    "\n",
    "import matplotlib.pyplot as plt\n",
    "import numpy as np\n",
    "import torch\n",
    "import torch.nn as nn\n",
    "\n",
    "import sys\n",
    "\n",
    "sys.path.append('..')\n",
    "\n",
    "from algorithms.random_policy import RandomPolicy\n",
    "from algorithms.sequence_models.decision_sequence_policy import DTPolicy\n",
    "from algorithms.sequence_models.decision_transformer.decision_transformer import DecisionTransformer\n",
    "from algorithms.sequence_models.evaluate import evaluate_on_env\n",
    "from data.door_key_dataset import DoorKeyDataset\n",
    "from data.random_walk_dataset import RandomWalkDataset\n",
    "from envs.door_key import DoorKeyEnv, DoorKeyEnvSmall\n",
    "from data.trajectory import LimitedContextWrapper\n",
    "from algorithms.sequence_models.config import TrainConfig\n",
    "from algorithms.sequence_models.decision_transformer.trainer import TrainerDT\n",
    "from envs.random_walk import RandomWalkEnv\n",
    "from experiment import Experiment\n",
    "import gymnasium as gym\n",
    "from functools import partial\n",
    "\n",
    "device = torch.device('cuda' if torch.cuda.is_available() else 'cpu')\n",
    "print(\"device is \", device)"
   ],
   "execution_count": 1,
   "outputs": []
  },
  {
   "metadata": {
    "ExecuteTime": {
     "end_time": "2024-05-12T05:01:45.129171Z",
     "start_time": "2024-05-12T05:01:42.538678Z"
    }
   },
   "cell_type": "code",
   "source": "from envs.carnival import get_carnival_env",
   "id": "adf9bbe878ec60f7",
   "execution_count": 2,
   "outputs": []
  },
  {
   "metadata": {
    "ExecuteTime": {
     "end_time": "2024-05-12T05:01:45.264174Z",
     "start_time": "2024-05-12T05:01:45.130802Z"
    }
   },
   "cell_type": "code",
   "source": [
    "env = get_carnival_env()\n",
    "obs, _ = env.reset()\n",
    "obs.shape"
   ],
   "id": "d791a29fa90db3f3",
   "execution_count": 3,
   "outputs": []
  },
  {
   "metadata": {
    "ExecuteTime": {
     "end_time": "2024-05-12T05:01:45.383996Z",
     "start_time": "2024-05-12T05:01:45.265040Z"
    }
   },
   "cell_type": "code",
   "source": "plt.imshow(obs)",
   "id": "74ec8a95afd061fa",
   "execution_count": 4,
   "outputs": []
  },
  {
   "metadata": {
    "ExecuteTime": {
     "end_time": "2024-05-12T05:01:50.808849Z",
     "start_time": "2024-05-12T05:01:48.617634Z"
    }
   },
   "cell_type": "code",
   "source": [
    "import torch\n",
    "import torch.nn as nn\n",
    "\n",
    "class CNNFeatureExtractor(nn.Module):\n",
    "    FEATURE_DIM = 64\n",
    "    \n",
    "    def __init__(self):\n",
    "        super(CNNFeatureExtractor, self).__init__()\n",
    "        self.conv1 = nn.Conv2d(in_channels=3, out_channels=16, kernel_size=3, stride=1, padding=1)\n",
    "        self.conv2 = nn.Conv2d(in_channels=16, out_channels=32, kernel_size=3, stride=1, padding=1)\n",
    "        self.conv3 = nn.Conv2d(in_channels=32, out_channels=64, kernel_size=3, stride=1, padding=1)\n",
    "        self.conv4 = nn.Conv2d(in_channels=64, out_channels=128, kernel_size=3, stride=1, padding=1)\n",
    "        self.conv5 = nn.Conv2d(in_channels=128, out_channels=128, kernel_size=3, stride=1, padding=1)\n",
    "        self.conv6 = nn.Conv2d(in_channels=128, out_channels=128, kernel_size=3, stride=1, padding=1)\n",
    "        self.pool = nn.MaxPool2d(kernel_size=2, stride=2)\n",
    "        self.fc1 = nn.Linear(128 * 3 * 2, 128)\n",
    "        self.fc2 = nn.Linear(128, 64)\n",
    "    \n",
    "    def forward(self, x):\n",
    "        # Apply convolutional and pooling layers\n",
    "        x = self.pool(torch.relu(self.conv1(x)))\n",
    "        x = self.pool(torch.relu(self.conv2(x)))\n",
    "        x = self.pool(torch.relu(self.conv3(x)))\n",
    "        x = self.pool(torch.relu(self.conv4(x)))\n",
    "        x = self.pool(torch.relu(self.conv5(x)))\n",
    "        x = self.pool(torch.relu(self.conv6(x)))\n",
    "        x = x.view(-1, 128 * 3 * 2) \n",
    "        return x\n",
    "\n",
    "# wrapper over DT. passes the features of the input through\n",
    "class CarnivalDTWrapper(nn.Module):\n",
    "    def __init__(self, state_dim, **kwargs):\n",
    "        super(CarnivalDTWrapper, self).__init__()\n",
    "        self.feature_extractor = CNNFeatureExtractor()\n",
    "        self.sequence_model = DecisionTransformer(**kwargs, state_dim=self.feature_extractor.FEATURE_DIM) # change the feature size midways\n",
    "        \n",
    "    def forward(self, timesteps, states, actions, returns_to_go):\n",
    "        states = self.feature_extractor(states)\n",
    "        return self.sequence_model(timesteps, states, actions, returns_to_go)\n"
   ],
   "id": "dd276694da710157",
   "execution_count": 5,
   "outputs": []
  },
  {
   "metadata": {
    "jupyter": {
     "is_executing": true
    },
    "ExecuteTime": {
     "start_time": "2024-05-12T05:03:40.396460Z"
    }
   },
   "cell_type": "code",
   "source": [
    "from data.carnival_dataset import CarnivalDataset\n",
    "\n",
    "env = get_carnival_env()\n",
    "env_human = get_carnival_env(render_mode='human')\n",
    "\n",
    "episode_length = 500\n",
    "config = TrainConfig(max_eval_ep_len=episode_length, context_len=128,\n",
    "                     eval_model_interval=50)\n",
    "\n",
    "#################### todo\n",
    "# n_trajectories should be at least 10000 for the agent to learn I think \n",
    "####################\n",
    "n_trajectories = 2000\n",
    "experiment_name = f\"experiment_carnival_dataset_size={n_trajectories}\"\n",
    "if DoorKeyDataset.exists(experiment_name):\n",
    "    traj_dataset = CarnivalDataset.load(experiment_name)\n",
    "else:\n",
    "    traj_dataset = CarnivalDataset(env, n_trajectories=n_trajectories, reward_scale=1000)\n",
    "    traj_dataset.save(experiment_name)\n",
    "\n",
    "dt_model = CarnivalDTWrapper(\n",
    "    state_dim=traj_dataset.state_dim(),\n",
    "    act_dim=traj_dataset.action_dim(),\n",
    "    n_blocks=config.n_blocks,\n",
    "    h_dim=config.embed_dim,\n",
    "    context_len=config.context_len,\n",
    "    n_heads=config.n_heads,\n",
    "    drop_p=config.dropout_p,\n",
    ").to(device)\n",
    "\n",
    "make_dt_policy = partial(DTPolicy, model=dt_model, traj_dataset=traj_dataset, device=device, max_test_ep_len=config.max_eval_ep_len, context_length=config.context_len)\n",
    "\n",
    "policies_and_names = []\n",
    "for rtg in [1000, 2000, 3000, 4000]:\n",
    "    policies_and_names.append((make_dt_policy(rtg=rtg), f'dt,rtg={rtg}'))\n",
    "policies_and_names.append((RandomPolicy(env), \"random_policy\"))\n",
    "\n",
    "experiment = Experiment(\n",
    "    model_name='dt',\n",
    "    model=dt_model,\n",
    "    env_name='Carnival-V4',\n",
    "    env=env,\n",
    "    experiment_name='first-try',\n",
    "    traj_dataset=traj_dataset,\n",
    "    dataset_name=f'size={len(traj_dataset)}',\n",
    "    config=config,\n",
    "    device=device,\n",
    "    eval_policies_and_names=policies_and_names\n",
    ")"
   ],
   "id": "f5c7e1fc432af4dd",
   "execution_count": null,
   "outputs": []
  },
  {
   "metadata": {
    "ExecuteTime": {
     "end_time": "2024-05-12T05:02:36.724256Z",
     "start_time": "2024-05-12T05:02:36.697017Z"
    }
   },
   "cell_type": "code",
   "source": "env.observation_space.shape",
   "id": "bab014290ffa701c",
   "execution_count": 9,
   "outputs": []
  },
  {
   "metadata": {
    "ExecuteTime": {
     "end_time": "2024-05-12T04:53:40.953408Z",
     "start_time": "2024-05-12T04:53:40.840673Z"
    }
   },
   "cell_type": "code",
   "source": [
    "obs, _ = env.reset()\n",
    "counter = 0\n",
    "done = False\n",
    "counter = 0\n",
    "ret = 0\n",
    "while not done:\n",
    "    action = env.action_space.sample()\n",
    "    obs, reward, truncated, terminated, _ = env.step(action)\n",
    "    done = truncated or terminated\n",
    "    ret += reward\n",
    "    counter += 1\n",
    "    \n",
    "counter, ret"
   ],
   "id": "6305ff3bc81298",
   "execution_count": 43,
   "outputs": []
  }
 ],
 "metadata": {
  "kernelspec": {
   "display_name": "Python 3",
   "language": "python",
   "name": "python3"
  },
  "language_info": {
   "codemirror_mode": {
    "name": "ipython",
    "version": 2
   },
   "file_extension": ".py",
   "mimetype": "text/x-python",
   "name": "python",
   "nbconvert_exporter": "python",
   "pygments_lexer": "ipython2",
   "version": "2.7.6"
  }
 },
 "nbformat": 4,
 "nbformat_minor": 5
}
