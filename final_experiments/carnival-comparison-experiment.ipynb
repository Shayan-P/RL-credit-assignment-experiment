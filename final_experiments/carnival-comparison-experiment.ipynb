{
 "cells": [
  {
   "cell_type": "code",
   "id": "initial_id",
   "metadata": {
    "collapsed": true,
    "ExecuteTime": {
     "end_time": "2024-05-12T11:54:47.956908Z",
     "start_time": "2024-05-12T11:54:47.917120Z"
    }
   },
   "source": [
    "%load_ext autoreload\n",
    "%autoreload 2\n",
    "\n",
    "import matplotlib.pyplot as plt\n",
    "import numpy as np\n",
    "import torch\n",
    "import torch.nn as nn\n",
    "\n",
    "import sys\n",
    "\n",
    "sys.path.append('..')\n",
    "\n",
    "from algorithms.random_policy import RandomPolicy\n",
    "from algorithms.sequence_models.decision_sequence_policy import DTPolicy\n",
    "from algorithms.sequence_models.decision_transformer.decision_transformer import DecisionTransformer\n",
    "from algorithms.sequence_models.evaluate import evaluate_on_env\n",
    "from data.door_key_dataset import DoorKeyDataset\n",
    "from data.random_walk_dataset import RandomWalkDataset\n",
    "from envs.door_key import DoorKeyEnv, DoorKeyEnvSmall\n",
    "from data.trajectory import LimitedContextWrapper\n",
    "from algorithms.sequence_models.config import TrainConfig\n",
    "from algorithms.sequence_models.decision_transformer.trainer import TrainerDT\n",
    "from envs.random_walk import RandomWalkEnv\n",
    "from experiment import Experiment\n",
    "import gymnasium as gym\n",
    "from functools import partial\n",
    "\n",
    "device = torch.device('cuda' if torch.cuda.is_available() else 'cpu')\n",
    "print(\"device is \", device)"
   ],
   "outputs": [
    {
     "name": "stdout",
     "output_type": "stream",
     "text": [
      "The autoreload extension is already loaded. To reload it, use:\n",
      "  %reload_ext autoreload\n",
      "device is  cuda\n"
     ]
    }
   ],
   "execution_count": 10
  },
  {
   "metadata": {
    "ExecuteTime": {
     "end_time": "2024-05-12T11:54:48.524577Z",
     "start_time": "2024-05-12T11:54:48.489020Z"
    }
   },
   "cell_type": "code",
   "source": "from envs.carnival import get_carnival_env",
   "id": "adf9bbe878ec60f7",
   "outputs": [],
   "execution_count": 11
  },
  {
   "metadata": {
    "ExecuteTime": {
     "end_time": "2024-05-12T11:54:49.864959Z",
     "start_time": "2024-05-12T11:54:49.829932Z"
    }
   },
   "cell_type": "code",
   "source": [
    "# env = get_carnival_env()\n",
    "# obs, _ = env.reset()\n",
    "# obs.shape\n",
    "# plt.imshow(obs)"
   ],
   "id": "d791a29fa90db3f3",
   "outputs": [],
   "execution_count": 12
  },
  {
   "metadata": {
    "ExecuteTime": {
     "end_time": "2024-05-12T11:54:51.230914Z",
     "start_time": "2024-05-12T11:54:51.191002Z"
    }
   },
   "cell_type": "code",
   "source": [
    "from algorithms.sequence_models.decision_sequence_policy import DecisionSequenceModel\n",
    "from algorithms.sequence_models.decision_S4.dts4 import DecisionS4\n",
    "import torch\n",
    "import torch.nn as nn\n",
    "\n",
    "class CNNFeatureExtractor(nn.Module):\n",
    "    FEATURE_DIM = 64\n",
    "    \n",
    "    def __init__(self):\n",
    "        super(CNNFeatureExtractor, self).__init__()\n",
    "        self.conv1 = nn.Conv2d(in_channels=3, out_channels=16, kernel_size=3, stride=1, padding=1)\n",
    "        self.conv2 = nn.Conv2d(in_channels=16, out_channels=32, kernel_size=3, stride=1, padding=1)\n",
    "        self.conv3 = nn.Conv2d(in_channels=32, out_channels=64, kernel_size=3, stride=1, padding=1)\n",
    "        self.conv4 = nn.Conv2d(in_channels=64, out_channels=128, kernel_size=3, stride=1, padding=1)\n",
    "        self.conv5 = nn.Conv2d(in_channels=128, out_channels=128, kernel_size=3, stride=1, padding=1)\n",
    "        self.conv6 = nn.Conv2d(in_channels=128, out_channels=128, kernel_size=3, stride=1, padding=1)\n",
    "        self.pool = nn.MaxPool2d(kernel_size=2, stride=2)\n",
    "        self.fc1 = nn.Linear(128 * 3 * 2, 128)\n",
    "        self.fc2 = nn.Linear(128, 64)\n",
    "    \n",
    "    def forward(self, x):\n",
    "        first_shape = x.shape[:-3]\n",
    "        second_shape = x.shape[-3:]\n",
    "        x = x.view(-1, *second_shape)\n",
    "        x = x.permute([0, 3, 1, 2])\n",
    "        \n",
    "        # Apply convolutional and pooling layers\n",
    "        x = self.pool(torch.relu(self.conv1(x)))\n",
    "        x = self.pool(torch.relu(self.conv2(x)))\n",
    "        x = self.pool(torch.relu(self.conv3(x)))\n",
    "        x = self.pool(torch.relu(self.conv4(x)))\n",
    "        x = self.pool(torch.relu(self.conv5(x)))\n",
    "        x = self.pool(torch.relu(self.conv6(x)))\n",
    "        x = x.reshape(-1, 128 * 3 * 2)\n",
    "        x = torch.relu(self.fc1(x))\n",
    "        x = torch.relu(self.fc2(x))\n",
    "        x = x.view(*first_shape, self.FEATURE_DIM)\n",
    "        return x\n",
    "\n",
    "# wrapper over DT. passes the features of the input through\n",
    "class CarnivalDTWrapper(DecisionSequenceModel):\n",
    "    def __init__(self, state_dim, act_dim, **kwargs):\n",
    "        # change the feature size midways\n",
    "        super(CarnivalDTWrapper, self).__init__(state_dim=CNNFeatureExtractor.FEATURE_DIM, act_dim=act_dim)\n",
    "        self.feature_extractor = CNNFeatureExtractor()\n",
    "        self.sequence_model = DecisionTransformer(state_dim=self.state_dim, act_dim=self.act_dim, **kwargs) \n",
    "        \n",
    "    def forward(self, timesteps, states, actions, returns_to_go):\n",
    "        states = self.feature_extractor(states)\n",
    "        return self.sequence_model(timesteps, states, actions, returns_to_go)\n",
    "\n",
    "\n",
    "class CarnivalS4Wrapper(DecisionSequenceModel):\n",
    "    def __init__(self, state_dim, act_dim, **kwargs):\n",
    "        super(CarnivalS4Wrapper, self).__init__(state_dim=CNNFeatureExtractor.FEATURE_DIM, act_dim=act_dim)\n",
    "        self.feature_extractor = CNNFeatureExtractor()\n",
    "        self.sequence_model = DecisionS4(state_dim=self.state_dim, act_dim=self.act_dim, **kwargs) \n",
    "\n",
    "    def forward(self, timesteps, states, actions, returns_to_go):\n",
    "        states = self.feature_extractor(states)\n",
    "        return self.sequence_model(timesteps, states, actions, returns_to_go)\n"
   ],
   "id": "dd276694da710157",
   "outputs": [],
   "execution_count": 13
  },
  {
   "metadata": {
    "ExecuteTime": {
     "end_time": "2024-05-12T11:55:56.581469Z",
     "start_time": "2024-05-12T11:55:55.579758Z"
    }
   },
   "cell_type": "code",
   "source": [
    "from data.carnival_dataset import CarnivalDataset\n",
    "\n",
    "env = get_carnival_env()\n",
    "\n",
    "episode_length = 500 # todo the more the better but then it becomes slower\n",
    "config = TrainConfig(max_eval_ep_len=episode_length, context_len=episode_length,\n",
    "                     eval_model_interval=40,\n",
    "                     batch_size=32) # because it doesn't fit on my gpu\n",
    "\n",
    "n_trajectories = 2000\n",
    "experiment_name = f\"experiment_carnival_dataset_size={n_trajectories}\"\n",
    "if CarnivalDataset.exists(experiment_name):\n",
    "    traj_dataset = CarnivalDataset.load(experiment_name)\n",
    "else:\n",
    "    traj_dataset = CarnivalDataset(env, n_trajectories=n_trajectories, reward_scale=1000)\n",
    "    traj_dataset.save(experiment_name)\n"
   ],
   "id": "f5c7e1fc432af4dd",
   "outputs": [],
   "execution_count": 18
  },
  {
   "metadata": {
    "ExecuteTime": {
     "end_time": "2024-05-12T11:56:00.943496Z",
     "start_time": "2024-05-12T11:55:58.059148Z"
    }
   },
   "cell_type": "code",
   "source": [
    "from final_experiments.comparison_experiment import AutomatedComparisonExperiment\n",
    "\n",
    "comparison_experiment = AutomatedComparisonExperiment(\n",
    "    env=env,\n",
    "    traj_dataset=traj_dataset,\n",
    "    config=config,\n",
    "    device=device,\n",
    "    rtgs_for_train_eval=[1000, 2000, 5000, 10000, 30000], # todo change for other envs\n",
    "    rtgs_final_test=np.linspace(1000, 50000, 15, endpoint=True), # todo change for other envs\n",
    "    env_name=f\"Carnival-V4\", # todo change for other envs\n",
    "    experiment_name=\"automated_comparison\",\n",
    "    DT_Class=CarnivalDTWrapper,\n",
    "    S4_Class=CarnivalS4Wrapper\n",
    ")"
   ],
   "id": "de6b4edced649471",
   "outputs": [
    {
     "name": "stderr",
     "output_type": "stream",
     "text": [
      "INFO:algorithms.sequence_models.decision_S4.s4:Constructing S4 (H, N, L) = (128, 32, None)\n"
     ]
    },
    {
     "name": "stdout",
     "output_type": "stream",
     "text": [
      "s4 : number of parameters 1108519\n",
      "dt : number of parameters 1637287\n"
     ]
    }
   ],
   "execution_count": 19
  },
  {
   "metadata": {
    "ExecuteTime": {
     "end_time": "2024-05-12T11:56:01.163201Z",
     "start_time": "2024-05-12T11:56:00.944825Z"
    }
   },
   "cell_type": "code",
   "source": "epochs = 5",
   "id": "cb72d773bd5c3e8c",
   "outputs": [],
   "execution_count": 20
  },
  {
   "metadata": {
    "ExecuteTime": {
     "end_time": "2024-05-12T11:57:37.560069Z",
     "start_time": "2024-05-12T11:56:03.782426Z"
    }
   },
   "cell_type": "code",
   "source": "comparison_experiment.run_and_report(comparison_experiment.s4_experiment, epochs=epochs)",
   "id": "5fa57b34f55daf7d",
   "outputs": [
    {
     "name": "stdout",
     "output_type": "stream",
     "text": [
      "distribution of rewards in the dataset\n",
      "training started\n"
     ]
    },
    {
     "data": {
      "text/plain": [
       "  0%|          | 0/5 [00:00<?, ?it/s]"
      ],
      "application/vnd.jupyter.widget-view+json": {
       "version_major": 2,
       "version_minor": 0,
       "model_id": "e473b35d1d874a899f6c0db14bfa4ba2"
      }
     },
     "metadata": {},
     "output_type": "display_data"
    },
    {
     "name": "stdout",
     "output_type": "stream",
     "text": [
      "============================================================\n",
      "time elapsed: 0:00:19\n",
      "num of updates: 100\n",
      "loss: 0.32876\n",
      "lr 0.00001\n",
      "grad_norm 0.12213\n",
      "============================================================\n",
      "time elapsed: 0:00:38\n",
      "num of updates: 200\n",
      "loss: 0.17145\n",
      "lr 0.00002\n",
      "grad_norm 0.17442\n",
      "============================================================\n",
      "time elapsed: 0:00:56\n",
      "num of updates: 300\n",
      "loss: 0.14683\n",
      "lr 0.00003\n",
      "grad_norm 0.18443\n",
      "============================================================\n",
      "time elapsed: 0:01:15\n",
      "num of updates: 400\n",
      "loss: 0.14409\n",
      "lr 0.00004\n",
      "grad_norm 0.17908\n",
      "============================================================\n",
      "time elapsed: 0:01:34\n",
      "num of updates: 500\n",
      "loss: 0.14279\n",
      "lr 0.00005\n",
      "grad_norm 0.19640\n",
      "saving current model at: /home/shayan/projects/RL-credit-assignment-experiment/logs/Carnival-V4/dt/automated_comparison/automated_comparison_size=10_model_model_24-05-12-07-56-00.pt\n",
      "saving checkpoint model at: /home/shayan/projects/RL-credit-assignment-experiment/logs/Carnival-V4/dt/automated_comparison/automated_comparison_size=10_model24-05-12-07-56-00checkpoint__5.pt\n",
      "saving final checkpoint model at: /home/shayan/projects/RL-credit-assignment-experiment/logs/Carnival-V4/dt/automated_comparison/automated_comparison_size=10_model24-05-12-07-56-00checkpoint__5_final.pt\n",
      "gathered no evaluation data to save\n"
     ]
    },
    {
     "ename": "RuntimeError",
     "evalue": "expand(torch.cuda.ByteTensor{[214, 160, 3]}, size=[64]): the number of sizes provided (1) must be greater or equal to the number of dimensions in the tensor (3)",
     "output_type": "error",
     "traceback": [
      "\u001B[0;31m---------------------------------------------------------------------------\u001B[0m",
      "\u001B[0;31mRuntimeError\u001B[0m                              Traceback (most recent call last)",
      "Cell \u001B[0;32mIn[21], line 1\u001B[0m\n\u001B[0;32m----> 1\u001B[0m \u001B[43mcomparison_experiment\u001B[49m\u001B[38;5;241;43m.\u001B[39;49m\u001B[43mrun_and_report\u001B[49m\u001B[43m(\u001B[49m\u001B[43mcomparison_experiment\u001B[49m\u001B[38;5;241;43m.\u001B[39;49m\u001B[43ms4_experiment\u001B[49m\u001B[43m,\u001B[49m\u001B[43m \u001B[49m\u001B[43mepochs\u001B[49m\u001B[38;5;241;43m=\u001B[39;49m\u001B[43mepochs\u001B[49m\u001B[43m)\u001B[49m\n",
      "File \u001B[0;32m~/projects/RL-credit-assignment-experiment/final_experiments/comparison_experiment.py:108\u001B[0m, in \u001B[0;36mAutomatedComparisonExperiment.run_and_report\u001B[0;34m(self, experiment, epochs)\u001B[0m\n\u001B[1;32m    105\u001B[0m experiment\u001B[38;5;241m.\u001B[39mplot_loss(report)\n\u001B[1;32m    106\u001B[0m experiment\u001B[38;5;241m.\u001B[39msave_fig(\u001B[38;5;124mf\u001B[39m\u001B[38;5;124m\"\u001B[39m\u001B[38;5;124mloss_after=\u001B[39m\u001B[38;5;132;01m{\u001B[39;00mexperiment\u001B[38;5;241m.\u001B[39mcustom_callback\u001B[38;5;241m.\u001B[39miters\u001B[38;5;132;01m}\u001B[39;00m\u001B[38;5;124m\"\u001B[39m)\n\u001B[0;32m--> 108\u001B[0m rtg_results \u001B[38;5;241m=\u001B[39m [evaluate_policy(policy, \u001B[38;5;28mself\u001B[39m\u001B[38;5;241m.\u001B[39menv, num_eval_ep\u001B[38;5;241m=\u001B[39m\u001B[38;5;28mself\u001B[39m\u001B[38;5;241m.\u001B[39mconfig\u001B[38;5;241m.\u001B[39mnum_eval_ep)[\u001B[38;5;124m'\u001B[39m\u001B[38;5;124meval/avg_reward\u001B[39m\u001B[38;5;124m'\u001B[39m]\n\u001B[1;32m    109\u001B[0m                \u001B[38;5;28;01mfor\u001B[39;00m policy \u001B[38;5;129;01min\u001B[39;00m experiment\u001B[38;5;241m.\u001B[39mfinal_eval_policies]\n\u001B[1;32m    110\u001B[0m max_in_dataset \u001B[38;5;241m=\u001B[39m \u001B[38;5;28mmax\u001B[39m([traj\u001B[38;5;241m.\u001B[39mreturns[\u001B[38;5;241m0\u001B[39m] \u001B[38;5;28;01mfor\u001B[39;00m traj \u001B[38;5;129;01min\u001B[39;00m \u001B[38;5;28mself\u001B[39m\u001B[38;5;241m.\u001B[39mtraj_dataset])\n\u001B[1;32m    112\u001B[0m plt\u001B[38;5;241m.\u001B[39mfigure()\n",
      "File \u001B[0;32m~/projects/RL-credit-assignment-experiment/final_experiments/comparison_experiment.py:108\u001B[0m, in \u001B[0;36m<listcomp>\u001B[0;34m(.0)\u001B[0m\n\u001B[1;32m    105\u001B[0m experiment\u001B[38;5;241m.\u001B[39mplot_loss(report)\n\u001B[1;32m    106\u001B[0m experiment\u001B[38;5;241m.\u001B[39msave_fig(\u001B[38;5;124mf\u001B[39m\u001B[38;5;124m\"\u001B[39m\u001B[38;5;124mloss_after=\u001B[39m\u001B[38;5;132;01m{\u001B[39;00mexperiment\u001B[38;5;241m.\u001B[39mcustom_callback\u001B[38;5;241m.\u001B[39miters\u001B[38;5;132;01m}\u001B[39;00m\u001B[38;5;124m\"\u001B[39m)\n\u001B[0;32m--> 108\u001B[0m rtg_results \u001B[38;5;241m=\u001B[39m [\u001B[43mevaluate_policy\u001B[49m\u001B[43m(\u001B[49m\u001B[43mpolicy\u001B[49m\u001B[43m,\u001B[49m\u001B[43m \u001B[49m\u001B[38;5;28;43mself\u001B[39;49m\u001B[38;5;241;43m.\u001B[39;49m\u001B[43menv\u001B[49m\u001B[43m,\u001B[49m\u001B[43m \u001B[49m\u001B[43mnum_eval_ep\u001B[49m\u001B[38;5;241;43m=\u001B[39;49m\u001B[38;5;28;43mself\u001B[39;49m\u001B[38;5;241;43m.\u001B[39;49m\u001B[43mconfig\u001B[49m\u001B[38;5;241;43m.\u001B[39;49m\u001B[43mnum_eval_ep\u001B[49m\u001B[43m)\u001B[49m[\u001B[38;5;124m'\u001B[39m\u001B[38;5;124meval/avg_reward\u001B[39m\u001B[38;5;124m'\u001B[39m]\n\u001B[1;32m    109\u001B[0m                \u001B[38;5;28;01mfor\u001B[39;00m policy \u001B[38;5;129;01min\u001B[39;00m experiment\u001B[38;5;241m.\u001B[39mfinal_eval_policies]\n\u001B[1;32m    110\u001B[0m max_in_dataset \u001B[38;5;241m=\u001B[39m \u001B[38;5;28mmax\u001B[39m([traj\u001B[38;5;241m.\u001B[39mreturns[\u001B[38;5;241m0\u001B[39m] \u001B[38;5;28;01mfor\u001B[39;00m traj \u001B[38;5;129;01min\u001B[39;00m \u001B[38;5;28mself\u001B[39m\u001B[38;5;241m.\u001B[39mtraj_dataset])\n\u001B[1;32m    112\u001B[0m plt\u001B[38;5;241m.\u001B[39mfigure()\n",
      "File \u001B[0;32m~/projects/RL-credit-assignment-experiment/algorithms/evaluate_policy.py:19\u001B[0m, in \u001B[0;36mevaluate_policy\u001B[0;34m(policy, env, num_eval_ep, max_test_ep_len, render)\u001B[0m\n\u001B[1;32m     16\u001B[0m policy\u001B[38;5;241m.\u001B[39mreset()\n\u001B[1;32m     18\u001B[0m \u001B[38;5;28;01mfor\u001B[39;00m t \u001B[38;5;129;01min\u001B[39;00m \u001B[38;5;28mrange\u001B[39m(max_test_ep_len):\n\u001B[0;32m---> 19\u001B[0m     action \u001B[38;5;241m=\u001B[39m \u001B[43mpolicy\u001B[49m\u001B[38;5;241;43m.\u001B[39;49m\u001B[43mpredict\u001B[49m\u001B[43m(\u001B[49m\u001B[43mobs\u001B[49m\u001B[43m)\u001B[49m\n\u001B[1;32m     20\u001B[0m     obs, reward, terminated, truncated, _ \u001B[38;5;241m=\u001B[39m env\u001B[38;5;241m.\u001B[39mstep(action)\n\u001B[1;32m     21\u001B[0m     done \u001B[38;5;241m=\u001B[39m terminated \u001B[38;5;129;01mor\u001B[39;00m truncated\n",
      "File \u001B[0;32m~/projects/RL-credit-assignment-experiment/algorithms/sequence_models/decision_sequence_policy.py:83\u001B[0m, in \u001B[0;36mDTPolicy.predict\u001B[0;34m(self, obs)\u001B[0m\n\u001B[1;32m     81\u001B[0m \u001B[38;5;28;01mdef\u001B[39;00m \u001B[38;5;21mpredict\u001B[39m(\u001B[38;5;28mself\u001B[39m, obs):\n\u001B[1;32m     82\u001B[0m     \u001B[38;5;66;03m# add state in placeholder and normalize\u001B[39;00m\n\u001B[0;32m---> 83\u001B[0m     \u001B[38;5;28mself\u001B[39m\u001B[38;5;241m.\u001B[39mstates[\u001B[38;5;241m0\u001B[39m, \u001B[38;5;28mself\u001B[39m\u001B[38;5;241m.\u001B[39mt] \u001B[38;5;241m=\u001B[39m torch\u001B[38;5;241m.\u001B[39mfrom_numpy(\n\u001B[1;32m     84\u001B[0m         \u001B[38;5;28mself\u001B[39m\u001B[38;5;241m.\u001B[39mtraj_dataset\u001B[38;5;241m.\u001B[39mstate_convertor\u001B[38;5;241m.\u001B[39mto_feature_space(obs)\n\u001B[1;32m     85\u001B[0m     )\u001B[38;5;241m.\u001B[39mto(\u001B[38;5;28mself\u001B[39m\u001B[38;5;241m.\u001B[39mdevice)\n\u001B[1;32m     86\u001B[0m     \u001B[38;5;28mself\u001B[39m\u001B[38;5;241m.\u001B[39mrewards_to_go[\u001B[38;5;241m0\u001B[39m, \u001B[38;5;28mself\u001B[39m\u001B[38;5;241m.\u001B[39mt] \u001B[38;5;241m=\u001B[39m \u001B[38;5;28mself\u001B[39m\u001B[38;5;241m.\u001B[39mrunning_rtg\n\u001B[1;32m     88\u001B[0m     \u001B[38;5;28;01mif\u001B[39;00m \u001B[38;5;28mself\u001B[39m\u001B[38;5;241m.\u001B[39mt \u001B[38;5;241m<\u001B[39m \u001B[38;5;28mself\u001B[39m\u001B[38;5;241m.\u001B[39mcontext_length:\n",
      "\u001B[0;31mRuntimeError\u001B[0m: expand(torch.cuda.ByteTensor{[214, 160, 3]}, size=[64]): the number of sizes provided (1) must be greater or equal to the number of dimensions in the tensor (3)"
     ]
    },
    {
     "data": {
      "text/plain": [
       "<Figure size 640x480 with 1 Axes>"
      ],
      "image/png": "[encoded data removed]"
     },
     "metadata": {},
     "output_type": "display_data"
    },
    {
     "data": {
      "text/plain": [
       "<Figure size 640x480 with 0 Axes>"
      ]
     },
     "metadata": {},
     "output_type": "display_data"
    },
    {
     "data": {
      "text/plain": [
       "<Figure size 640x480 with 1 Axes>"
      ],
      "image/png": "[encoded data removed]"
     },
     "metadata": {},
     "output_type": "display_data"
    }
   ],
   "execution_count": 21
  },
  {
   "metadata": {},
   "cell_type": "code",
   "source": "comparison_experiment.run_and_report(comparison_experiment.dt_experiment, epochs=epochs)",
   "id": "ef08bd915c865a04",
   "outputs": [],
   "execution_count": null
  },
  {
   "metadata": {},
   "cell_type": "code",
   "outputs": [],
   "execution_count": null,
   "source": "env_human = get_carnival_env(render_mode='human')",
   "id": "447e9cd3c131aed6"
  },
  {
   "metadata": {},
   "cell_type": "code",
   "outputs": [],
   "execution_count": null,
   "source": [
    "# see and record\n",
    "from algorithms.evaluate_policy import evaluate_policy\n",
    "\n",
    "policy = comparison_experiment.make_dt_policy(rtg=1)\n",
    "evaluate_policy(policy, env_human, num_eval_ep=1)"
   ],
   "id": "1cfeede595373690"
  },
  {
   "metadata": {},
   "cell_type": "code",
   "outputs": [],
   "execution_count": null,
   "source": [
    "# see and record\n",
    "from algorithms.evaluate_policy import evaluate_policy\n",
    "\n",
    "policy = comparison_experiment.make_s4_policy(rtg=1)\n",
    "evaluate_policy(policy, env_human, num_eval_ep=1)"
   ],
   "id": "a2f1766539f79409"
  }
 ],
 "metadata": {
  "kernelspec": {
   "display_name": "Python 3",
   "language": "python",
   "name": "python3"
  },
  "language_info": {
   "codemirror_mode": {
    "name": "ipython",
    "version": 2
   },
   "file_extension": ".py",
   "mimetype": "text/x-python",
   "name": "python",
   "nbconvert_exporter": "python",
   "pygments_lexer": "ipython2",
   "version": "2.7.6"
  }
 },
 "nbformat": 4,
 "nbformat_minor": 5
}
