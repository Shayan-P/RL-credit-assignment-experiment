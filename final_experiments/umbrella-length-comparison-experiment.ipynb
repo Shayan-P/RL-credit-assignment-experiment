{
 "cells": [
  {
   "cell_type": "code",
   "id": "initial_id",
   "metadata": {
    "collapsed": true,
    "ExecuteTime": {
     "end_time": "2024-05-12T10:03:51.987438Z",
     "start_time": "2024-05-12T10:03:51.954391Z"
    }
   },
   "source": [
    "import numpy as np\n",
    "%load_ext autoreload\n",
    "%autoreload 2\n",
    "\n",
    "import torch\n",
    "import sys\n",
    "\n",
    "sys.path.append('..')\n",
    "\n",
    "from algorithms.sequence_models.config import TrainConfig\n",
    "\n",
    "device = torch.device('cuda' if torch.cuda.is_available() else 'cpu')\n",
    "print(\"device is \", device)"
   ],
   "execution_count": 12,
   "outputs": []
  },
  {
   "metadata": {
    "ExecuteTime": {
     "end_time": "2024-05-12T10:03:53.322793Z",
     "start_time": "2024-05-12T10:03:52.506102Z"
    }
   },
   "cell_type": "code",
   "source": [
    "from algorithms.sequence_models.decision_S4.dts4 import DecisionS4\n",
    "from envs.umbrella_length import get_umbrella_length_env\n",
    "from data.umbrella_length_dataset import UmbrellaLengthDataset\n",
    "from comparison_experiment import AutomatedComparisonExperiment\n",
    "\n",
    "chain_length = 5\n",
    "env = get_umbrella_length_env(chain_length=chain_length)\n",
    "\n",
    "max_eval_ep_len = chain_length + 2 # todo change for other envs\n",
    "context_len = chain_length + 2  # todo change for other envs\n",
    "\n",
    "config = TrainConfig(max_eval_ep_len=max_eval_ep_len, context_len=max_eval_ep_len)\n",
    "\n",
    "n_trajectories = 10_000 # todo is this enough / too much?\n",
    "experiment_name = f\"experiment_umbrella_length_{chain_length}_dataset_size={n_trajectories}\"\n",
    "if UmbrellaLengthDataset.exists(experiment_name):\n",
    "    traj_dataset = UmbrellaLengthDataset.load(experiment_name)\n",
    "else:\n",
    "    reward_scale = 1 # todo change for other envs\n",
    "    traj_dataset = UmbrellaLengthDataset(env, n_trajectories=n_trajectories, reward_scale=reward_scale)\n",
    "    traj_dataset.save(experiment_name)\n",
    "\n",
    "comparison_experiment = AutomatedComparisonExperiment(\n",
    "    env=env,\n",
    "    traj_dataset=traj_dataset,\n",
    "    config=config,\n",
    "    device=device,\n",
    "    rtgs_for_train_eval=np.linspace(-1.2, 1.2, 8, endpoint=True), # todo change for other envs\n",
    "    rtgs_final_test=np.linspace(-1.2, 1.2, 15, endpoint=True), # todo change for other envs\n",
    "    env_name=f\"umbrella_length_{chain_length}\", # todo change for other envs\n",
    "    experiment_name=\"automated_comparison\"\n",
    ")"
   ],
   "id": "860101fa4ffd73d9",
   "execution_count": 13,
   "outputs": []
  },
  {
   "metadata": {
    "ExecuteTime": {
     "end_time": "2024-05-12T10:04:14.846172Z",
     "start_time": "2024-05-12T10:04:14.818492Z"
    }
   },
   "cell_type": "code",
   "source": "epochs = 10 # todo set to 200",
   "id": "6954651090941bc5",
   "execution_count": 16,
   "outputs": []
  },
  {
   "metadata": {
    "ExecuteTime": {
     "end_time": "2024-05-12T10:04:22.780744Z",
     "start_time": "2024-05-12T10:04:15.689397Z"
    }
   },
   "cell_type": "code",
   "source": "comparison_experiment.run_and_report(comparison_experiment.dt_experiment, epochs=epochs)",
   "id": "f47ba30938d7beed",
   "execution_count": 17,
   "outputs": []
  },
  {
   "metadata": {
    "ExecuteTime": {
     "end_time": "2024-05-12T10:04:34.001379Z",
     "start_time": "2024-05-12T10:04:25.946687Z"
    }
   },
   "cell_type": "code",
   "source": "comparison_experiment.run_and_report(comparison_experiment.s4_experiment, epochs=epochs)",
   "id": "3e4158352b395157",
   "execution_count": 18,
   "outputs": []
  }
 ],
 "metadata": {
  "kernelspec": {
   "display_name": "Python 3",
   "language": "python",
   "name": "python3"
  },
  "language_info": {
   "codemirror_mode": {
    "name": "ipython",
    "version": 2
   },
   "file_extension": ".py",
   "mimetype": "text/x-python",
   "name": "python",
   "nbconvert_exporter": "python",
   "pygments_lexer": "ipython2",
   "version": "2.7.6"
  }
 },
 "nbformat": 4,
 "nbformat_minor": 5
}
