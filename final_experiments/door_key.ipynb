{
 "cells": [
  {
   "cell_type": "code",
   "id": "initial_id",
   "metadata": {
    "collapsed": true,
    "ExecuteTime": {
     "end_time": "2024-05-12T05:00:51.030870Z",
     "start_time": "2024-05-12T05:00:48.382485Z"
    }
   },
   "source": [
    "%load_ext autoreload\n",
    "%autoreload 2\n",
    "\n",
    "import matplotlib.pyplot as plt\n",
    "import numpy as np\n",
    "import torch\n",
    "import torch.nn as nn\n",
    "\n",
    "import sys\n",
    "\n",
    "sys.path.append('..')\n",
    "\n",
    "from algorithms.random_policy import RandomPolicy\n",
    "from algorithms.sequence_models.decision_sequence_policy import DTPolicy\n",
    "from algorithms.sequence_models.decision_transformer.decision_transformer import DecisionTransformer\n",
    "from algorithms.sequence_models.evaluate import evaluate_on_env\n",
    "from data.door_key_dataset import DoorKeyDataset\n",
    "from data.random_walk_dataset import RandomWalkDataset\n",
    "from envs.door_key import DoorKeyEnv, DoorKeyEnvSmall\n",
    "from data.trajectory import LimitedContextWrapper\n",
    "from algorithms.sequence_models.config import TrainConfig\n",
    "from algorithms.sequence_models.decision_transformer.trainer import TrainerDT\n",
    "from envs.random_walk import RandomWalkEnv\n",
    "from experiment import Experiment\n",
    "import gymnasium as gym\n",
    "from functools import partial\n",
    "from algorithms.evaluate_policy import evaluate_policy\n",
    "\n",
    "device = torch.device('cuda' if torch.cuda.is_available() else 'cpu')\n",
    "print(\"device is \", device)"
   ],
   "outputs": [
    {
     "name": "stdout",
     "output_type": "stream",
     "text": [
      "device is  cuda\n"
     ]
    }
   ],
   "execution_count": 1
  },
  {
   "metadata": {
    "ExecuteTime": {
     "end_time": "2024-05-12T05:05:31.225788Z",
     "start_time": "2024-05-12T05:01:08.929474Z"
    }
   },
   "cell_type": "code",
   "source": [
    "from minigrid.wrappers import ImgObsWrapper\n",
    "\n",
    "inner_env = gym.make('MiniGrid-DoorKey-5x5-v0')\n",
    "inner_env_human = gym.make('MiniGrid-DoorKey-5x5-v0', render_mode='human')\n",
    "env = ImgObsWrapper(inner_env)\n",
    "env_human = ImgObsWrapper(inner_env_human)\n",
    "\n",
    "\n",
    "config = TrainConfig(max_eval_ep_len=env.max_steps, context_len=32,\n",
    "                     eval_model_interval=50)\n",
    "\n",
    "#################### todo\n",
    "# n_trajectories should be at least 10000 for the agent to learn I think \n",
    "####################\n",
    "n_trajectories = 10_000\n",
    "experiment_name = f\"experiment_door_key_dataset_size={n_trajectories}\"\n",
    "# if DoorKeyDataset.exists(experiment_name):\n",
    "#     traj_dataset = DoorKeyDataset.load(experiment_name)\n",
    "# else:\n",
    "traj_dataset = DoorKeyDataset(env, n_trajectories=n_trajectories, reward_scale=1, prob_keeping_nonzero=0.01)\n",
    "traj_dataset.save(experiment_name)\n",
    "\n",
    "dt_model = DecisionTransformer(\n",
    "    state_dim=traj_dataset.state_dim(),\n",
    "    act_dim=traj_dataset.action_dim(),\n",
    "    n_blocks=config.n_blocks,\n",
    "    h_dim=config.embed_dim,\n",
    "    context_len=config.context_len,\n",
    "    n_heads=config.n_heads,\n",
    "    drop_p=config.dropout_p,\n",
    ").to(device)\n",
    "\n",
    "make_dt_policy = partial(DTPolicy, model=dt_model, traj_dataset=traj_dataset, device=device, max_test_ep_len=config.max_eval_ep_len, context_length=config.context_len)\n",
    "\n",
    "experiment = Experiment(\n",
    "    model_name='dt',\n",
    "    model=dt_model,\n",
    "    env_name='MiniGrid-DoorKey-5x5-v0',\n",
    "    env=env,\n",
    "    experiment_name='generalization',\n",
    "    traj_dataset=traj_dataset,\n",
    "    dataset_name=f'size={len(traj_dataset)}',\n",
    "    config=config,\n",
    "    device=device,\n",
    "    eval_policies_and_names=[\n",
    "        (make_dt_policy(rtg=rtg), f'dt,rtg={rtg}')\n",
    "        for rtg in np.linspace(0, 1.5, 10)\n",
    "    ]\n",
    ")"
   ],
   "id": "5fa62e6934fa9a67",
   "outputs": [
    {
     "data": {
      "text/plain": [
       "collecting trajectories:   0%|          | 0/10000 [00:00<?, ?it/s]"
      ],
      "application/vnd.jupyter.widget-view+json": {
       "version_major": 2,
       "version_minor": 0,
       "model_id": "30266e3b93c54702a9564adcd88076dc"
      }
     },
     "metadata": {},
     "output_type": "display_data"
    },
    {
     "name": "stdout",
     "output_type": "stream",
     "text": [
      "Dataset Info:\n",
      "episode_max_length: 250\n",
      "reward_scale: 1\n",
      "return min=0.0, max=0.9244 mean=0.3552352570828961\n",
      "gamma: 1\n",
      "number of parameters 1159579\n"
     ]
    }
   ],
   "execution_count": 4
  },
  {
   "metadata": {
    "ExecuteTime": {
     "end_time": "2024-05-12T05:05:31.911482Z",
     "start_time": "2024-05-12T05:05:31.247146Z"
    }
   },
   "cell_type": "code",
   "source": [
    "# rewards:\n",
    "plt.hist([traj.returns[0] for traj in traj_dataset], bins=50);"
   ],
   "id": "d6373adb8a43947a",
   "outputs": [
    {
     "data": {
      "text/plain": [
       "<Figure size 640x480 with 1 Axes>"
      ],
      "image/png": "[encoded data removed]"
     },
     "metadata": {},
     "output_type": "display_data"
    }
   ],
   "execution_count": 5
  },
  {
   "metadata": {
    "jupyter": {
     "is_executing": true
    },
    "ExecuteTime": {
     "start_time": "2024-05-12T05:11:27.580939Z"
    }
   },
   "cell_type": "code",
   "source": "report = experiment.train_for(200)",
   "id": "19e0fa0a5c02d7b7",
   "outputs": [
    {
     "name": "stdout",
     "output_type": "stream",
     "text": [
      "training started\n"
     ]
    },
    {
     "data": {
      "text/plain": [
       "  0%|          | 0/200 [00:00<?, ?it/s]"
      ],
      "application/vnd.jupyter.widget-view+json": {
       "version_major": 2,
       "version_minor": 0,
       "model_id": "74ac5d7f51204e529042d83b948465f3"
      }
     },
     "metadata": {},
     "output_type": "display_data"
    },
    {
     "name": "stdout",
     "output_type": "stream",
     "text": [
      "============================================================\n",
      "time elapsed: 0:00:01\n",
      "num of updates: 1100\n",
      "loss: 0.12330\n",
      "lr 0.00011\n",
      "grad_norm 0.11059\n",
      "============================================================\n",
      "time elapsed: 0:00:03\n",
      "num of updates: 1200\n",
      "loss: 0.12315\n",
      "lr 0.00012\n",
      "grad_norm 0.19603\n",
      "============================================================\n",
      "time elapsed: 0:00:04\n",
      "num of updates: 1300\n",
      "loss: 0.12304\n",
      "lr 0.00013\n",
      "grad_norm 0.10123\n",
      "============================================================\n",
      "time elapsed: 0:00:05\n",
      "num of updates: 1400\n",
      "loss: 0.12289\n",
      "lr 0.00014\n",
      "grad_norm 0.13275\n",
      "============================================================\n",
      "time elapsed: 0:00:06\n",
      "num of updates: 1500\n",
      "loss: 0.12275\n",
      "lr 0.00015\n",
      "grad_norm 0.10654\n",
      "============================================================\n",
      "time elapsed: 0:00:07\n",
      "num of updates: 1600\n",
      "loss: 0.12271\n",
      "lr 0.00016\n",
      "grad_norm 0.09943\n",
      "============================================================\n",
      "time elapsed: 0:00:08\n",
      "num of updates: 1700\n",
      "loss: 0.12266\n",
      "lr 0.00017\n",
      "grad_norm 0.14555\n",
      "============================================================\n",
      "time elapsed: 0:00:10\n",
      "num of updates: 1800\n",
      "loss: 0.12266\n",
      "lr 0.00018\n",
      "grad_norm 0.11927\n",
      "============================================================\n",
      "time elapsed: 0:00:11\n",
      "num of updates: 1900\n",
      "loss: 0.12267\n",
      "lr 0.00019\n",
      "grad_norm 0.12240\n",
      "============================================================\n",
      "time elapsed: 0:00:12\n",
      "num of updates: 2000\n",
      "loss: 0.12260\n",
      "lr 0.00020\n",
      "grad_norm 0.13757\n",
      "============================================================\n",
      "time elapsed: 0:00:13\n",
      "num of updates: 2100\n",
      "loss: 0.12259\n",
      "lr 0.00021\n",
      "grad_norm 0.10511\n",
      "============================================================\n",
      "time elapsed: 0:00:14\n",
      "num of updates: 2200\n",
      "loss: 0.12246\n",
      "lr 0.00022\n",
      "grad_norm 0.14184\n",
      "============================================================\n",
      "time elapsed: 0:00:15\n",
      "num of updates: 2300\n",
      "loss: 0.12249\n",
      "lr 0.00023\n",
      "grad_norm 0.14147\n",
      "============================================================\n",
      "time elapsed: 0:00:17\n",
      "num of updates: 2400\n",
      "loss: 0.12249\n",
      "lr 0.00024\n",
      "grad_norm 0.10246\n",
      "============================================================\n",
      "time elapsed: 0:00:18\n",
      "num of updates: 2500\n",
      "loss: 0.12241\n",
      "lr 0.00025\n",
      "grad_norm 0.10233\n",
      "============================================================\n",
      "time elapsed: 0:00:19\n",
      "num of updates: 2600\n",
      "loss: 0.12236\n",
      "lr 0.00026\n",
      "grad_norm 0.09645\n",
      "============================================================\n",
      "time elapsed: 0:00:20\n",
      "num of updates: 2700\n",
      "loss: 0.12233\n",
      "lr 0.00027\n",
      "grad_norm 0.07793\n",
      "============================================================\n",
      "time elapsed: 0:00:21\n",
      "num of updates: 2800\n",
      "loss: 0.12230\n",
      "lr 0.00028\n",
      "grad_norm 0.10243\n",
      "============================================================\n",
      "time elapsed: 0:00:22\n",
      "num of updates: 2900\n",
      "loss: 0.12221\n",
      "lr 0.00029\n",
      "grad_norm 0.05302\n"
     ]
    }
   ],
   "execution_count": null
  },
  {
   "metadata": {
    "ExecuteTime": {
     "end_time": "2024-05-12T05:11:06.700322Z",
     "start_time": "2024-05-12T05:11:06.566898Z"
    }
   },
   "cell_type": "code",
   "source": "experiment.plot_loss(report)",
   "id": "bc2c0a09d82a52b4",
   "outputs": [
    {
     "data": {
      "text/plain": [
       "<Axes: >"
      ]
     },
     "execution_count": 7,
     "metadata": {},
     "output_type": "execute_result"
    },
    {
     "data": {
      "text/plain": [
       "<Figure size 640x480 with 1 Axes>"
      ],
      "image/png": "[encoded data removed]"
     },
     "metadata": {},
     "output_type": "display_data"
    }
   ],
   "execution_count": 7
  },
  {
   "metadata": {
    "ExecuteTime": {
     "end_time": "2024-05-12T05:11:14.453780Z",
     "start_time": "2024-05-12T05:11:13.926497Z"
    }
   },
   "cell_type": "code",
   "source": [
    "# policy = RandomPolicy(env)\n",
    "policy = make_dt_policy(rtg=1)\n",
    "\n",
    "# you can also write another eval to store all the results not just the average\n",
    "evaluate_policy(policy, env, num_eval_ep=2)"
   ],
   "id": "4287c2ee0da95d04",
   "outputs": [
    {
     "data": {
      "text/plain": [
       "{'eval/avg_reward': 0.0, 'eval/avg_ep_len': 250.0}"
      ]
     },
     "execution_count": 8,
     "metadata": {},
     "output_type": "execute_result"
    }
   ],
   "execution_count": 8
  },
  {
   "metadata": {
    "ExecuteTime": {
     "end_time": "2024-05-12T03:23:54.004511Z",
     "start_time": "2024-05-12T03:23:49.938926Z"
    }
   },
   "cell_type": "code",
   "source": [
    "# wanna see what's happening? use env_human\n",
    "\n",
    "# you can also write another eval to store all the results not just the average\n",
    "evaluate_policy(policy, env_human, num_eval_ep=1)"
   ],
   "id": "c3656ecdd1212248",
   "outputs": [
    {
     "ename": "KeyboardInterrupt",
     "evalue": "",
     "output_type": "error",
     "traceback": [
      "\u001B[0;31m---------------------------------------------------------------------------\u001B[0m",
      "\u001B[0;31mKeyboardInterrupt\u001B[0m                         Traceback (most recent call last)",
      "Cell \u001B[0;32mIn[29], line 4\u001B[0m\n\u001B[1;32m      1\u001B[0m \u001B[38;5;66;03m# wanna see what's happening? use env_human\u001B[39;00m\n\u001B[1;32m      2\u001B[0m \n\u001B[1;32m      3\u001B[0m \u001B[38;5;66;03m# you can also write another eval to store all the results not just the average\u001B[39;00m\n\u001B[0;32m----> 4\u001B[0m \u001B[43mevaluate_policy\u001B[49m\u001B[43m(\u001B[49m\u001B[43mpolicy\u001B[49m\u001B[43m,\u001B[49m\u001B[43m \u001B[49m\u001B[43menv_human\u001B[49m\u001B[43m,\u001B[49m\u001B[43m \u001B[49m\u001B[43mnum_eval_ep\u001B[49m\u001B[38;5;241;43m=\u001B[39;49m\u001B[38;5;241;43m1\u001B[39;49m\u001B[43m)\u001B[49m\n",
      "File \u001B[0;32m~/projects/RL-credit-assignment-experiment/algorithms/evaluate_policy.py:20\u001B[0m, in \u001B[0;36mevaluate_policy\u001B[0;34m(policy, env, num_eval_ep, max_test_ep_len, render)\u001B[0m\n\u001B[1;32m     18\u001B[0m \u001B[38;5;28;01mfor\u001B[39;00m t \u001B[38;5;129;01min\u001B[39;00m \u001B[38;5;28mrange\u001B[39m(max_test_ep_len):\n\u001B[1;32m     19\u001B[0m     action \u001B[38;5;241m=\u001B[39m policy\u001B[38;5;241m.\u001B[39mpredict(obs)\n\u001B[0;32m---> 20\u001B[0m     obs, reward, terminated, truncated, _ \u001B[38;5;241m=\u001B[39m \u001B[43menv\u001B[49m\u001B[38;5;241;43m.\u001B[39;49m\u001B[43mstep\u001B[49m\u001B[43m(\u001B[49m\u001B[43maction\u001B[49m\u001B[43m)\u001B[49m\n\u001B[1;32m     21\u001B[0m     done \u001B[38;5;241m=\u001B[39m terminated \u001B[38;5;129;01mor\u001B[39;00m truncated\n\u001B[1;32m     22\u001B[0m     policy\u001B[38;5;241m.\u001B[39madd_to_history(obs, action, reward, done)\n",
      "File \u001B[0;32m~/miniconda3/envs/rl-explore/lib/python3.10/site-packages/gymnasium/core.py:522\u001B[0m, in \u001B[0;36mObservationWrapper.step\u001B[0;34m(self, action)\u001B[0m\n\u001B[1;32m    518\u001B[0m \u001B[38;5;28;01mdef\u001B[39;00m \u001B[38;5;21mstep\u001B[39m(\n\u001B[1;32m    519\u001B[0m     \u001B[38;5;28mself\u001B[39m, action: ActType\n\u001B[1;32m    520\u001B[0m ) \u001B[38;5;241m-\u001B[39m\u001B[38;5;241m>\u001B[39m \u001B[38;5;28mtuple\u001B[39m[WrapperObsType, SupportsFloat, \u001B[38;5;28mbool\u001B[39m, \u001B[38;5;28mbool\u001B[39m, \u001B[38;5;28mdict\u001B[39m[\u001B[38;5;28mstr\u001B[39m, Any]]:\n\u001B[1;32m    521\u001B[0m \u001B[38;5;250m    \u001B[39m\u001B[38;5;124;03m\"\"\"Modifies the :attr:`env` after calling :meth:`step` using :meth:`self.observation` on the returned observations.\"\"\"\u001B[39;00m\n\u001B[0;32m--> 522\u001B[0m     observation, reward, terminated, truncated, info \u001B[38;5;241m=\u001B[39m \u001B[38;5;28;43mself\u001B[39;49m\u001B[38;5;241;43m.\u001B[39;49m\u001B[43menv\u001B[49m\u001B[38;5;241;43m.\u001B[39;49m\u001B[43mstep\u001B[49m\u001B[43m(\u001B[49m\u001B[43maction\u001B[49m\u001B[43m)\u001B[49m\n\u001B[1;32m    523\u001B[0m     \u001B[38;5;28;01mreturn\u001B[39;00m \u001B[38;5;28mself\u001B[39m\u001B[38;5;241m.\u001B[39mobservation(observation), reward, terminated, truncated, info\n",
      "File \u001B[0;32m~/miniconda3/envs/rl-explore/lib/python3.10/site-packages/gymnasium/wrappers/order_enforcing.py:56\u001B[0m, in \u001B[0;36mOrderEnforcing.step\u001B[0;34m(self, action)\u001B[0m\n\u001B[1;32m     54\u001B[0m \u001B[38;5;28;01mif\u001B[39;00m \u001B[38;5;129;01mnot\u001B[39;00m \u001B[38;5;28mself\u001B[39m\u001B[38;5;241m.\u001B[39m_has_reset:\n\u001B[1;32m     55\u001B[0m     \u001B[38;5;28;01mraise\u001B[39;00m ResetNeeded(\u001B[38;5;124m\"\u001B[39m\u001B[38;5;124mCannot call env.step() before calling env.reset()\u001B[39m\u001B[38;5;124m\"\u001B[39m)\n\u001B[0;32m---> 56\u001B[0m \u001B[38;5;28;01mreturn\u001B[39;00m \u001B[38;5;28;43mself\u001B[39;49m\u001B[38;5;241;43m.\u001B[39;49m\u001B[43menv\u001B[49m\u001B[38;5;241;43m.\u001B[39;49m\u001B[43mstep\u001B[49m\u001B[43m(\u001B[49m\u001B[43maction\u001B[49m\u001B[43m)\u001B[49m\n",
      "File \u001B[0;32m~/miniconda3/envs/rl-explore/lib/python3.10/site-packages/gymnasium/wrappers/env_checker.py:51\u001B[0m, in \u001B[0;36mPassiveEnvChecker.step\u001B[0;34m(self, action)\u001B[0m\n\u001B[1;32m     49\u001B[0m     \u001B[38;5;28;01mreturn\u001B[39;00m env_step_passive_checker(\u001B[38;5;28mself\u001B[39m\u001B[38;5;241m.\u001B[39menv, action)\n\u001B[1;32m     50\u001B[0m \u001B[38;5;28;01melse\u001B[39;00m:\n\u001B[0;32m---> 51\u001B[0m     \u001B[38;5;28;01mreturn\u001B[39;00m \u001B[38;5;28;43mself\u001B[39;49m\u001B[38;5;241;43m.\u001B[39;49m\u001B[43menv\u001B[49m\u001B[38;5;241;43m.\u001B[39;49m\u001B[43mstep\u001B[49m\u001B[43m(\u001B[49m\u001B[43maction\u001B[49m\u001B[43m)\u001B[49m\n",
      "File \u001B[0;32m~/miniconda3/envs/rl-explore/lib/python3.10/site-packages/minigrid/minigrid_env.py:582\u001B[0m, in \u001B[0;36mMiniGridEnv.step\u001B[0;34m(self, action)\u001B[0m\n\u001B[1;32m    579\u001B[0m     truncated \u001B[38;5;241m=\u001B[39m \u001B[38;5;28;01mTrue\u001B[39;00m\n\u001B[1;32m    581\u001B[0m \u001B[38;5;28;01mif\u001B[39;00m \u001B[38;5;28mself\u001B[39m\u001B[38;5;241m.\u001B[39mrender_mode \u001B[38;5;241m==\u001B[39m \u001B[38;5;124m\"\u001B[39m\u001B[38;5;124mhuman\u001B[39m\u001B[38;5;124m\"\u001B[39m:\n\u001B[0;32m--> 582\u001B[0m     \u001B[38;5;28;43mself\u001B[39;49m\u001B[38;5;241;43m.\u001B[39;49m\u001B[43mrender\u001B[49m\u001B[43m(\u001B[49m\u001B[43m)\u001B[49m\n\u001B[1;32m    584\u001B[0m obs \u001B[38;5;241m=\u001B[39m \u001B[38;5;28mself\u001B[39m\u001B[38;5;241m.\u001B[39mgen_obs()\n\u001B[1;32m    586\u001B[0m \u001B[38;5;28;01mreturn\u001B[39;00m obs, reward, terminated, truncated, {}\n",
      "File \u001B[0;32m~/miniconda3/envs/rl-explore/lib/python3.10/site-packages/minigrid/minigrid_env.py:772\u001B[0m, in \u001B[0;36mMiniGridEnv.render\u001B[0;34m(self)\u001B[0m\n\u001B[1;32m    770\u001B[0m     \u001B[38;5;28mself\u001B[39m\u001B[38;5;241m.\u001B[39mwindow\u001B[38;5;241m.\u001B[39mblit(bg, (\u001B[38;5;241m0\u001B[39m, \u001B[38;5;241m0\u001B[39m))\n\u001B[1;32m    771\u001B[0m     pygame\u001B[38;5;241m.\u001B[39mevent\u001B[38;5;241m.\u001B[39mpump()\n\u001B[0;32m--> 772\u001B[0m     \u001B[38;5;28;43mself\u001B[39;49m\u001B[38;5;241;43m.\u001B[39;49m\u001B[43mclock\u001B[49m\u001B[38;5;241;43m.\u001B[39;49m\u001B[43mtick\u001B[49m\u001B[43m(\u001B[49m\u001B[38;5;28;43mself\u001B[39;49m\u001B[38;5;241;43m.\u001B[39;49m\u001B[43mmetadata\u001B[49m\u001B[43m[\u001B[49m\u001B[38;5;124;43m\"\u001B[39;49m\u001B[38;5;124;43mrender_fps\u001B[39;49m\u001B[38;5;124;43m\"\u001B[39;49m\u001B[43m]\u001B[49m\u001B[43m)\u001B[49m\n\u001B[1;32m    773\u001B[0m     pygame\u001B[38;5;241m.\u001B[39mdisplay\u001B[38;5;241m.\u001B[39mflip()\n\u001B[1;32m    775\u001B[0m \u001B[38;5;28;01melif\u001B[39;00m \u001B[38;5;28mself\u001B[39m\u001B[38;5;241m.\u001B[39mrender_mode \u001B[38;5;241m==\u001B[39m \u001B[38;5;124m\"\u001B[39m\u001B[38;5;124mrgb_array\u001B[39m\u001B[38;5;124m\"\u001B[39m:\n",
      "\u001B[0;31mKeyboardInterrupt\u001B[0m: "
     ]
    }
   ],
   "execution_count": 29
  }
 ],
 "metadata": {
  "kernelspec": {
   "display_name": "Python 3",
   "language": "python",
   "name": "python3"
  },
  "language_info": {
   "codemirror_mode": {
    "name": "ipython",
    "version": 2
   },
   "file_extension": ".py",
   "mimetype": "text/x-python",
   "name": "python",
   "nbconvert_exporter": "python",
   "pygments_lexer": "ipython2",
   "version": "2.7.6"
  }
 },
 "nbformat": 4,
 "nbformat_minor": 5
}
